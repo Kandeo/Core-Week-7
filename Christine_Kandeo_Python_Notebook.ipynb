{
  "nbformat": 4,
  "nbformat_minor": 0,
  "metadata": {
    "colab": {
      "name": "Christine Kandeo Python Notebook",
      "provenance": [],
      "collapsed_sections": [],
      "authorship_tag": "ABX9TyN5Y4PUDDIRsS9Zk9ml0xrK",
      "include_colab_link": true
    },
    "kernelspec": {
      "name": "python3",
      "display_name": "Python 3"
    },
    "language_info": {
      "name": "python"
    }
  },
  "cells": [
    {
      "cell_type": "markdown",
      "metadata": {
        "id": "view-in-github",
        "colab_type": "text"
      },
      "source": [
        "<a href=\"https://colab.research.google.com/github/Kandeo/Core-Week-7/blob/main/Christine_Kandeo_Python_Notebook.ipynb\" target=\"_parent\"><img src=\"https://colab.research.google.com/assets/colab-badge.svg\" alt=\"Open In Colab\"/></a>"
      ]
    },
    {
      "cell_type": "markdown",
      "metadata": {
        "id": "RMAnFYdbqeS8"
      },
      "source": [
        "# **Housing Price Predictive Analysis**\n",
        "\n",
        "**Overview** \n",
        "\n",
        "Hass Consulting Company a real estate leader with over 25 years of experience has tasked us to study the factors that affect housing prices using information on real estate properties that was collected over the past few months and create a Predictive Model that allows the company to accurately predict the sale of Housing prices upon being provided with the predictor variables. \n",
        "\n",
        "Dataset: http://bit.ly/IndependentProjectWeek7Dataset "
      ]
    },
    {
      "cell_type": "markdown",
      "metadata": {
        "id": "bnZ9PzoVuqpi"
      },
      "source": [
        "# **Defining the Question**"
      ]
    },
    {
      "cell_type": "markdown",
      "metadata": {
        "id": "v-TgEWuUuxpD"
      },
      "source": [
        "**Specific Data Analytics Question**"
      ]
    },
    {
      "cell_type": "markdown",
      "metadata": {
        "id": "dUhM_b-du4we"
      },
      "source": [
        "Building a model that predicts the price of a house from the housing data"
      ]
    },
    {
      "cell_type": "markdown",
      "metadata": {
        "id": "q5xt5fNIvbgO"
      },
      "source": [
        "**Metrics for success**"
      ]
    },
    {
      "cell_type": "markdown",
      "metadata": {
        "id": "Rcom3ZgPvgiA"
      },
      "source": [
        "The model can accurately predict the results between 2 teams based on the features fitted."
      ]
    },
    {
      "cell_type": "markdown",
      "metadata": {
        "id": "7At8TvEuv92c"
      },
      "source": [
        "**Understanding the Context**"
      ]
    },
    {
      "cell_type": "markdown",
      "metadata": {
        "id": "L_uA3TKzwAQu"
      },
      "source": [
        "The dataset on results contains results of 40,839 international football matches played starting from 1872 to 2019. The matches are strictly men's full internationals. The Fifa rankings dataset on the other hand capture rankings form 1993 to June 2018."
      ]
    },
    {
      "cell_type": "markdown",
      "metadata": {
        "id": "PUiG-AOzxUUr"
      },
      "source": [
        "**Experimental Design**"
      ]
    },
    {
      "cell_type": "markdown",
      "metadata": {
        "id": "RtSmlkgzxXxf"
      },
      "source": [
        "1. Data Loading\n",
        " - Loading Libraries\n",
        "2. Preprocessing\n",
        " - Joining datasets\n",
        " - Handling missing/duplicate values\n",
        " - Dealing with irrelevant observations\n",
        "3. Exploratory Data Analysis\n",
        " - Univariate analysis\n",
        " - Bivariate analysis\n",
        "4. Model Training\n",
        " - Label Encoding\n",
        " - Polynomial Approach\n",
        " - Logistic Approach\n",
        "5. Conclusions"
      ]
    },
    {
      "cell_type": "markdown",
      "metadata": {
        "id": "xtRqUDZpyRUl"
      },
      "source": [
        "**Data Relevance**\n",
        "\n",
        " - **Date**: Date of Match\n",
        "\n",
        " - **Home team**: Name of home team\n",
        "\n",
        " - **Away team**: Name of away team\n",
        "\n",
        " - **Home score**: Full-time home team score\n",
        "\n",
        " - **Away score**: Full time away team score\n",
        "\n",
        " - **Tournament**: Name of the tournament\n",
        "\n",
        " - **Country**: The Country the match was played\n",
        "\n",
        " - **Neutral**: Whether matchwas plaed at a neutral venue\n",
        "\n",
        " - **Rank**: Country rank\n",
        "\n",
        "\n",
        "\n",
        "\n",
        "\n",
        "\n",
        "\n"
      ]
    },
    {
      "cell_type": "markdown",
      "metadata": {
        "id": "M4yZGIHO0qRZ"
      },
      "source": [
        "# **Data Loading**"
      ]
    },
    {
      "cell_type": "code",
      "metadata": {
        "id": "G1lLWPMJ55_t"
      },
      "source": [
        "#Importing dependencies:\n",
        "import pandas as pd     #Data Manipulation\n",
        "import seaborn as sb    #Multi-dimensional arrays  \n",
        "import seaborn as sns   #EDA\n",
        "import numpy as np\n",
        "import matplotlib.pyplot as plt\n",
        "from sklearn.linear_model import LinearRegression\n",
        "from sklearn.model_selection import train_test_split\n",
        "from sklearn.metrics import accuracy_score\n",
        "from sklearn import metrics\n",
        "from sklearn.preprocessing import StandardScaler\n",
        "from sklearn.preprocessing import LabelEncoder\n",
        "from sklearn.model_selection import GridSearchCV\n",
        "from sklearn.model_selection import KFold\n",
        "from sklearn import linear_model\n",
        "import scipy as sp\n",
        "from sklearn. metrics import mean_squared_error, r2_score\n",
        "import warnings\n",
        "warnings.filterwarnings(\"ignore\")\n"
      ],
      "execution_count": null,
      "outputs": []
    },
    {
      "cell_type": "markdown",
      "metadata": {
        "id": "SESGln3c1LNZ"
      },
      "source": [
        "# **Preprocessing**"
      ]
    },
    {
      "cell_type": "code",
      "metadata": {
        "colab": {
          "base_uri": "https://localhost:8080/",
          "height": 194
        },
        "id": "dRDd5bta3bBR",
        "outputId": "d36f7baa-684a-4dac-d18a-e512bcea8396"
      },
      "source": [
        "#Loading and Previewing the Housing dataset:\n",
        "Housing = pd.read_csv('house_data.csv')\n",
        "Housing.head(4)\n"
      ],
      "execution_count": null,
      "outputs": [
        {
          "output_type": "execute_result",
          "data": {
            "text/html": [
              "<div>\n",
              "<style scoped>\n",
              "    .dataframe tbody tr th:only-of-type {\n",
              "        vertical-align: middle;\n",
              "    }\n",
              "\n",
              "    .dataframe tbody tr th {\n",
              "        vertical-align: top;\n",
              "    }\n",
              "\n",
              "    .dataframe thead th {\n",
              "        text-align: right;\n",
              "    }\n",
              "</style>\n",
              "<table border=\"1\" class=\"dataframe\">\n",
              "  <thead>\n",
              "    <tr style=\"text-align: right;\">\n",
              "      <th></th>\n",
              "      <th>id</th>\n",
              "      <th>price</th>\n",
              "      <th>bedrooms</th>\n",
              "      <th>bathrooms</th>\n",
              "      <th>sqft_living</th>\n",
              "      <th>sqft_lot</th>\n",
              "      <th>floors</th>\n",
              "      <th>waterfront</th>\n",
              "      <th>view</th>\n",
              "      <th>condition</th>\n",
              "      <th>grade</th>\n",
              "      <th>sqft_above</th>\n",
              "      <th>sqft_basement</th>\n",
              "      <th>yr_built</th>\n",
              "      <th>yr_renovated</th>\n",
              "      <th>zipcode</th>\n",
              "      <th>lat</th>\n",
              "      <th>long</th>\n",
              "      <th>sqft_living15</th>\n",
              "      <th>sqft_lot15</th>\n",
              "    </tr>\n",
              "  </thead>\n",
              "  <tbody>\n",
              "    <tr>\n",
              "      <th>0</th>\n",
              "      <td>7129300520</td>\n",
              "      <td>221900.0</td>\n",
              "      <td>3</td>\n",
              "      <td>1.00</td>\n",
              "      <td>1180</td>\n",
              "      <td>5650</td>\n",
              "      <td>1.0</td>\n",
              "      <td>0</td>\n",
              "      <td>0</td>\n",
              "      <td>3</td>\n",
              "      <td>7</td>\n",
              "      <td>1180</td>\n",
              "      <td>0</td>\n",
              "      <td>1955</td>\n",
              "      <td>0</td>\n",
              "      <td>98178</td>\n",
              "      <td>47.5112</td>\n",
              "      <td>-122.257</td>\n",
              "      <td>1340</td>\n",
              "      <td>5650</td>\n",
              "    </tr>\n",
              "    <tr>\n",
              "      <th>1</th>\n",
              "      <td>6414100192</td>\n",
              "      <td>538000.0</td>\n",
              "      <td>3</td>\n",
              "      <td>2.25</td>\n",
              "      <td>2570</td>\n",
              "      <td>7242</td>\n",
              "      <td>2.0</td>\n",
              "      <td>0</td>\n",
              "      <td>0</td>\n",
              "      <td>3</td>\n",
              "      <td>7</td>\n",
              "      <td>2170</td>\n",
              "      <td>400</td>\n",
              "      <td>1951</td>\n",
              "      <td>1991</td>\n",
              "      <td>98125</td>\n",
              "      <td>47.7210</td>\n",
              "      <td>-122.319</td>\n",
              "      <td>1690</td>\n",
              "      <td>7639</td>\n",
              "    </tr>\n",
              "    <tr>\n",
              "      <th>2</th>\n",
              "      <td>5631500400</td>\n",
              "      <td>180000.0</td>\n",
              "      <td>2</td>\n",
              "      <td>1.00</td>\n",
              "      <td>770</td>\n",
              "      <td>10000</td>\n",
              "      <td>1.0</td>\n",
              "      <td>0</td>\n",
              "      <td>0</td>\n",
              "      <td>3</td>\n",
              "      <td>6</td>\n",
              "      <td>770</td>\n",
              "      <td>0</td>\n",
              "      <td>1933</td>\n",
              "      <td>0</td>\n",
              "      <td>98028</td>\n",
              "      <td>47.7379</td>\n",
              "      <td>-122.233</td>\n",
              "      <td>2720</td>\n",
              "      <td>8062</td>\n",
              "    </tr>\n",
              "    <tr>\n",
              "      <th>3</th>\n",
              "      <td>2487200875</td>\n",
              "      <td>604000.0</td>\n",
              "      <td>4</td>\n",
              "      <td>3.00</td>\n",
              "      <td>1960</td>\n",
              "      <td>5000</td>\n",
              "      <td>1.0</td>\n",
              "      <td>0</td>\n",
              "      <td>0</td>\n",
              "      <td>5</td>\n",
              "      <td>7</td>\n",
              "      <td>1050</td>\n",
              "      <td>910</td>\n",
              "      <td>1965</td>\n",
              "      <td>0</td>\n",
              "      <td>98136</td>\n",
              "      <td>47.5208</td>\n",
              "      <td>-122.393</td>\n",
              "      <td>1360</td>\n",
              "      <td>5000</td>\n",
              "    </tr>\n",
              "  </tbody>\n",
              "</table>\n",
              "</div>"
            ],
            "text/plain": [
              "           id     price  bedrooms  ...     long  sqft_living15  sqft_lot15\n",
              "0  7129300520  221900.0         3  ... -122.257           1340        5650\n",
              "1  6414100192  538000.0         3  ... -122.319           1690        7639\n",
              "2  5631500400  180000.0         2  ... -122.233           2720        8062\n",
              "3  2487200875  604000.0         4  ... -122.393           1360        5000\n",
              "\n",
              "[4 rows x 20 columns]"
            ]
          },
          "metadata": {},
          "execution_count": 3
        }
      ]
    },
    {
      "cell_type": "code",
      "metadata": {
        "colab": {
          "base_uri": "https://localhost:8080/"
        },
        "id": "soBZv4I_7ZWj",
        "outputId": "7502ae78-4031-4ead-a15e-693d86059ce8"
      },
      "source": [
        "#Checking the shape of the dataset:\n",
        "Housing.shape\n"
      ],
      "execution_count": null,
      "outputs": [
        {
          "output_type": "execute_result",
          "data": {
            "text/plain": [
              "(21613, 20)"
            ]
          },
          "metadata": {},
          "execution_count": 4
        }
      ]
    },
    {
      "cell_type": "code",
      "metadata": {
        "colab": {
          "base_uri": "https://localhost:8080/"
        },
        "id": "Gh-SILWv7mGL",
        "outputId": "7c3f260f-8c2e-4cf4-ce73-52ba987d9eee"
      },
      "source": [
        "#Checking for any null values:\n",
        "Housing.isnull().sum()\n"
      ],
      "execution_count": null,
      "outputs": [
        {
          "output_type": "execute_result",
          "data": {
            "text/plain": [
              "id               0\n",
              "price            0\n",
              "bedrooms         0\n",
              "bathrooms        0\n",
              "sqft_living      0\n",
              "sqft_lot         0\n",
              "floors           0\n",
              "waterfront       0\n",
              "view             0\n",
              "condition        0\n",
              "grade            0\n",
              "sqft_above       0\n",
              "sqft_basement    0\n",
              "yr_built         0\n",
              "yr_renovated     0\n",
              "zipcode          0\n",
              "lat              0\n",
              "long             0\n",
              "sqft_living15    0\n",
              "sqft_lot15       0\n",
              "dtype: int64"
            ]
          },
          "metadata": {},
          "execution_count": 5
        }
      ]
    },
    {
      "cell_type": "code",
      "metadata": {
        "colab": {
          "base_uri": "https://localhost:8080/"
        },
        "id": "wm4Hf8Sv7tWV",
        "outputId": "eb477ae3-db4a-4241-a457-de00b5b2f40d"
      },
      "source": [
        "#Checking for duplicates:\n",
        "Housing.duplicated().sum()    #3 duplicates identified\n",
        "\n",
        "#Dropping duplicates:\n",
        "Housing.drop_duplicates(inplace=True)\n",
        "Housing.duplicated().sum()"
      ],
      "execution_count": null,
      "outputs": [
        {
          "output_type": "execute_result",
          "data": {
            "text/plain": [
              "0"
            ]
          },
          "metadata": {},
          "execution_count": 6
        }
      ]
    },
    {
      "cell_type": "markdown",
      "metadata": {
        "id": "PUx4vSj-QjEB"
      },
      "source": [
        "# **Exploratory Data Analysis**"
      ]
    },
    {
      "cell_type": "markdown",
      "metadata": {
        "id": "Yxa6IjkPVAxe"
      },
      "source": [
        "1. Univariate Analysis"
      ]
    },
    {
      "cell_type": "markdown",
      "metadata": {
        "id": "T267WnEoWhi9"
      },
      "source": [
        "We perform this analysis with an aim of describing the data and finding patterns that exist within."
      ]
    },
    {
      "cell_type": "markdown",
      "metadata": {
        "id": "GZFvX0fcWzB0"
      },
      "source": [
        " -  Distribution of match Venue"
      ]
    },
    {
      "cell_type": "code",
      "metadata": {
        "colab": {
          "base_uri": "https://localhost:8080/",
          "height": 319
        },
        "id": "e8Fe-_x9VFOG",
        "outputId": "9366898d-d5f1-4173-e2a8-1fdaf8abb7fc"
      },
      "source": [
        "#To find out the distribution of matches based on whether they were played on neutral grounds or not:\n",
        "Neutral = Results['neutral'].value_counts()\n",
        "Neutral\n",
        "# False: 16,651     True: 6273\n",
        "\n",
        "#Visualising the information on a pie chart:\n",
        "labels= ['False','True']\n",
        "colors=['lightgrey', 'rosybrown']\n",
        "plt.figure(figsize= (9, 5))\n",
        "plt.title('Distribution of Match Venues')\n",
        "plt.pie(Neutral,labels=labels, colors=colors, startangle=180, shadow=True,explode=(0, 0.1), autopct='%1.2f%%')\n",
        "plt.axis('equal')\n",
        "plt.show()\n"
      ],
      "execution_count": null,
      "outputs": [
        {
          "output_type": "display_data",
          "data": {
            "image/png": "[encoded data removed]",
            "text/plain": [
              "<Figure size 648x360 with 1 Axes>"
            ]
          },
          "metadata": {}
        }
      ]
    },
    {
      "cell_type": "markdown",
      "metadata": {
        "id": "WUfdb0sIX0pl"
      },
      "source": [
        "72.64% of the matches were not played on neutral grounds."
      ]
    },
    {
      "cell_type": "markdown",
      "metadata": {
        "id": "l_qirGJXY4qi"
      },
      "source": [
        " -  Top Countries where Matches have been played"
      ]
    },
    {
      "cell_type": "code",
      "metadata": {
        "colab": {
          "base_uri": "https://localhost:8080/",
          "height": 444
        },
        "id": "rwnZS_NBVIv0",
        "outputId": "23ae9e8d-68be-4646-a019-55db9f6a1adb"
      },
      "source": [
        "#Top countries where matched have been played:\n",
        "Tops = Results.country.value_counts().sort_values(ascending=False).head(5)\n",
        "Tops\n",
        "#USA, 939  France 489  South Africa 456  UAE 391  Qatar 360\n",
        "\n",
        "#Plotting the top participants:\n",
        "plt.figure(figsize= (9,7))\n",
        "plt.title('Participation by Country')\n",
        "sns.barplot(x=Tops.index, y=Tops, palette='crest');\n"
      ],
      "execution_count": null,
      "outputs": [
        {
          "output_type": "display_data",
          "data": {
            "image/png": "[encoded data removed]",
            "text/plain": [
              "<Figure size 648x504 with 1 Axes>"
            ]
          },
          "metadata": {
            "needs_background": "light"
          }
        }
      ]
    },
    {
      "cell_type": "markdown",
      "metadata": {
        "id": "dZZ7ITekaOHB"
      },
      "source": [
        "Most Matches have been played in the USA and France"
      ]
    },
    {
      "cell_type": "markdown",
      "metadata": {
        "id": "ff0sq-pVa6d2"
      },
      "source": [
        " - Distribution of Tournaments played"
      ]
    },
    {
      "cell_type": "code",
      "metadata": {
        "colab": {
          "base_uri": "https://localhost:8080/"
        },
        "id": "I-fEosNWWp3C",
        "outputId": "803c8ede-ee56-4184-d3ec-1a134476ca46"
      },
      "source": [
        "#Viewing the tournamnets with the most games played:\n",
        "Results['tournament'].value_counts().head(5)\n"
      ],
      "execution_count": null,
      "outputs": [
        {
          "output_type": "execute_result",
          "data": {
            "text/plain": [
              "Friendly                                8405\n",
              "FIFA World Cup qualification            4716\n",
              "UEFA Euro qualification                 1588\n",
              "African Cup of Nations qualification    1139\n",
              "AFC Asian Cup qualification              508\n",
              "Name: tournament, dtype: int64"
            ]
          },
          "metadata": {},
          "execution_count": 23
        }
      ]
    },
    {
      "cell_type": "markdown",
      "metadata": {
        "id": "HJJ91vpabaPm"
      },
      "source": [
        "Most of the game played were Friendly's followed by Fifa world cup qualifications"
      ]
    },
    {
      "cell_type": "code",
      "metadata": {
        "colab": {
          "base_uri": "https://localhost:8080/"
        },
        "id": "Cy7Sws67aS0Y",
        "outputId": "b512a19c-0010-461d-fc21-b111f54a3246"
      },
      "source": [
        "#Viewing the distribution of the data based on the Final scores:\n",
        "Results['Final_Score'].value_counts()\n"
      ],
      "execution_count": null,
      "outputs": [
        {
          "output_type": "execute_result",
          "data": {
            "text/plain": [
              "Win     11150\n",
              "Loss     6346\n",
              "Draw     5428\n",
              "Name: Final_Score, dtype: int64"
            ]
          },
          "metadata": {},
          "execution_count": 24
        }
      ]
    },
    {
      "cell_type": "markdown",
      "metadata": {
        "id": "Rk4oT4o2isbw"
      },
      "source": [
        " -  Distribution of Scores and Ranks"
      ]
    },
    {
      "cell_type": "code",
      "metadata": {
        "colab": {
          "base_uri": "https://localhost:8080/",
          "height": 398
        },
        "id": "GhjcLD8Wcj30",
        "outputId": "ca7c5d7d-f834-4beb-ceba-ffbeb588ff1d"
      },
      "source": [
        "#Plotting a boxplot on the Scores and ranks:\n",
        "fig,axes=plt.subplots(1,4, figsize=(20,6))\n",
        "sns.boxplot(Results.home_score, color='y', ax=axes[0])\n",
        "sns.boxplot(Results.away_score, color='y', ax=axes[1])\n",
        "sns.boxplot(Results.Home_Rank, color='y', ax=axes[2])\n",
        "sns.boxplot(Results.Away_Rank, color='y', ax=axes[3])\n",
        "axes[0].set_title('Boxplot on Home Scores')\n",
        "axes[1].set_title('Boxplot on Away Scores')\n",
        "axes[2].set_title('Boxplot on Home Ranks')\n",
        "axes[3].set_title('Boxplot on Away Ranks')\n",
        "plt.show()\n"
      ],
      "execution_count": null,
      "outputs": [
        {
          "output_type": "display_data",
          "data": {
            "image/png": "[encoded data removed]",
            "text/plain": [
              "<Figure size 1440x432 with 4 Axes>"
            ]
          },
          "metadata": {
            "needs_background": "light"
          }
        }
      ]
    },
    {
      "cell_type": "markdown",
      "metadata": {
        "id": "oblpPG9eizob"
      },
      "source": [
        "From the plots, outliers exist in the home and away scores. Since this are actual scores scored in the respective matches, none is dropped."
      ]
    },
    {
      "cell_type": "markdown",
      "metadata": {
        "id": "Y_y2FnXqjOvs"
      },
      "source": [
        " - Descriptive Summary"
      ]
    },
    {
      "cell_type": "code",
      "metadata": {
        "colab": {
          "base_uri": "https://localhost:8080/",
          "height": 300
        },
        "id": "UBsEkROOjUku",
        "outputId": "b1b5948f-74a2-4df5-f352-c8b61ce9a535"
      },
      "source": [
        "#A descriptive summary of the numerical variables:\n",
        "Results.describe()"
      ],
      "execution_count": null,
      "outputs": [
        {
          "output_type": "execute_result",
          "data": {
            "text/html": [
              "<div>\n",
              "<style scoped>\n",
              "    .dataframe tbody tr th:only-of-type {\n",
              "        vertical-align: middle;\n",
              "    }\n",
              "\n",
              "    .dataframe tbody tr th {\n",
              "        vertical-align: top;\n",
              "    }\n",
              "\n",
              "    .dataframe thead th {\n",
              "        text-align: right;\n",
              "    }\n",
              "</style>\n",
              "<table border=\"1\" class=\"dataframe\">\n",
              "  <thead>\n",
              "    <tr style=\"text-align: right;\">\n",
              "      <th></th>\n",
              "      <th>home_score</th>\n",
              "      <th>away_score</th>\n",
              "      <th>Year</th>\n",
              "      <th>Home_Rank</th>\n",
              "      <th>Away_Rank</th>\n",
              "    </tr>\n",
              "  </thead>\n",
              "  <tbody>\n",
              "    <tr>\n",
              "      <th>count</th>\n",
              "      <td>22924.000000</td>\n",
              "      <td>22924.000000</td>\n",
              "      <td>22924.000000</td>\n",
              "      <td>22924.000000</td>\n",
              "      <td>22924.000000</td>\n",
              "    </tr>\n",
              "    <tr>\n",
              "      <th>mean</th>\n",
              "      <td>1.651239</td>\n",
              "      <td>1.099503</td>\n",
              "      <td>2006.732551</td>\n",
              "      <td>87.308541</td>\n",
              "      <td>88.854563</td>\n",
              "    </tr>\n",
              "    <tr>\n",
              "      <th>std</th>\n",
              "      <td>1.705907</td>\n",
              "      <td>1.350143</td>\n",
              "      <td>7.196682</td>\n",
              "      <td>54.715817</td>\n",
              "      <td>55.157548</td>\n",
              "    </tr>\n",
              "    <tr>\n",
              "      <th>min</th>\n",
              "      <td>0.000000</td>\n",
              "      <td>0.000000</td>\n",
              "      <td>1993.000000</td>\n",
              "      <td>1.000000</td>\n",
              "      <td>1.000000</td>\n",
              "    </tr>\n",
              "    <tr>\n",
              "      <th>25%</th>\n",
              "      <td>0.000000</td>\n",
              "      <td>0.000000</td>\n",
              "      <td>2001.000000</td>\n",
              "      <td>38.000000</td>\n",
              "      <td>40.000000</td>\n",
              "    </tr>\n",
              "    <tr>\n",
              "      <th>50%</th>\n",
              "      <td>1.000000</td>\n",
              "      <td>1.000000</td>\n",
              "      <td>2007.000000</td>\n",
              "      <td>83.000000</td>\n",
              "      <td>84.000000</td>\n",
              "    </tr>\n",
              "    <tr>\n",
              "      <th>75%</th>\n",
              "      <td>2.000000</td>\n",
              "      <td>2.000000</td>\n",
              "      <td>2013.000000</td>\n",
              "      <td>140.000000</td>\n",
              "      <td>144.000000</td>\n",
              "    </tr>\n",
              "    <tr>\n",
              "      <th>max</th>\n",
              "      <td>31.000000</td>\n",
              "      <td>21.000000</td>\n",
              "      <td>2019.000000</td>\n",
              "      <td>209.000000</td>\n",
              "      <td>209.000000</td>\n",
              "    </tr>\n",
              "  </tbody>\n",
              "</table>\n",
              "</div>"
            ],
            "text/plain": [
              "         home_score    away_score          Year     Home_Rank     Away_Rank\n",
              "count  22924.000000  22924.000000  22924.000000  22924.000000  22924.000000\n",
              "mean       1.651239      1.099503   2006.732551     87.308541     88.854563\n",
              "std        1.705907      1.350143      7.196682     54.715817     55.157548\n",
              "min        0.000000      0.000000   1993.000000      1.000000      1.000000\n",
              "25%        0.000000      0.000000   2001.000000     38.000000     40.000000\n",
              "50%        1.000000      1.000000   2007.000000     83.000000     84.000000\n",
              "75%        2.000000      2.000000   2013.000000    140.000000    144.000000\n",
              "max       31.000000     21.000000   2019.000000    209.000000    209.000000"
            ]
          },
          "metadata": {},
          "execution_count": 26
        }
      ]
    },
    {
      "cell_type": "markdown",
      "metadata": {
        "id": "9lmBpQm7juKn"
      },
      "source": [
        "Findings and Recommendations;\n",
        "- Most games were not played in neutral grounds.\n",
        "- Further analysis to be done to establish if there is any relationship between the variables."
      ]
    },
    {
      "cell_type": "markdown",
      "metadata": {
        "id": "mGexxM8uaUx8"
      },
      "source": [
        "2. Bivariate Analysis"
      ]
    },
    {
      "cell_type": "markdown",
      "metadata": {
        "id": "AAgqUyXekjwU"
      },
      "source": [
        "This analysis is conducted with an aim of determining whether a statistical association exists between any two variables in the dataset."
      ]
    },
    {
      "cell_type": "markdown",
      "metadata": {
        "id": "T72TleMPk92O"
      },
      "source": [
        " - Correlation Test"
      ]
    },
    {
      "cell_type": "code",
      "metadata": {
        "colab": {
          "base_uri": "https://localhost:8080/",
          "height": 527
        },
        "id": "uUDZ51XCksOG",
        "outputId": "3fab5436-454f-4c5b-9889-ab047f603697"
      },
      "source": [
        "#To check for correlation between the variables:\n",
        "plt.figure(figsize = (22, 8))\n",
        "Corr = Housing.corr()\n",
        "sns.heatmap(Corr, cmap = 'Greys', annot = True)\n",
        "plt.title('Correlation Matrix')\n",
        "plt.show()"
      ],
      "execution_count": null,
      "outputs": [
        {
          "output_type": "display_data",
          "data": {
            "image/png": "[encoded data removed]",
            "text/plain": [
              "<Figure size 1584x576 with 2 Axes>"
            ]
          },
          "metadata": {
            "needs_background": "light"
          }
        }
      ]
    },
    {
      "cell_type": "code",
      "metadata": {
        "id": "UBNvMwlp2Qpo"
      },
      "source": [
        ""
      ],
      "execution_count": null,
      "outputs": []
    },
    {
      "cell_type": "markdown",
      "metadata": {
        "id": "sxmmHgk5mKAY"
      },
      "source": [
        "From the matrix, no linear relationship exists between the numerical variables in the dataset"
      ]
    },
    {
      "cell_type": "markdown",
      "metadata": {
        "id": "TOiavMkCnOEf"
      },
      "source": [
        "Findings and Recommendations;\n",
        " - From the correlation matrix,none of the input variables are linearly related. This validates their selection as they wont bear a negative impact on the regression analysis"
      ]
    },
    {
      "cell_type": "markdown",
      "metadata": {
        "id": "0yhJkntzjB1Z"
      },
      "source": [
        "# **Model Training**"
      ]
    },
    {
      "cell_type": "code",
      "metadata": {
        "colab": {
          "base_uri": "https://localhost:8080/",
          "height": 174
        },
        "id": "Lp0Jc6X__sh5",
        "outputId": "481d1795-8b00-458c-96cf-743cabbfc8af"
      },
      "source": [
        "#Picking columns relevant for Building the models:\n",
        "Model = Results[['home_team','away_team','home_score', 'away_score', 'tournament', 'Year', 'Home_Rank', 'Away_Rank', 'Final_Score']].copy()\n",
        "Model.tail(4)\n"
      ],
      "execution_count": null,
      "outputs": [
        {
          "output_type": "execute_result",
          "data": {
            "text/html": [
              "<div>\n",
              "<style scoped>\n",
              "    .dataframe tbody tr th:only-of-type {\n",
              "        vertical-align: middle;\n",
              "    }\n",
              "\n",
              "    .dataframe tbody tr th {\n",
              "        vertical-align: top;\n",
              "    }\n",
              "\n",
              "    .dataframe thead th {\n",
              "        text-align: right;\n",
              "    }\n",
              "</style>\n",
              "<table border=\"1\" class=\"dataframe\">\n",
              "  <thead>\n",
              "    <tr style=\"text-align: right;\">\n",
              "      <th></th>\n",
              "      <th>home_team</th>\n",
              "      <th>away_team</th>\n",
              "      <th>home_score</th>\n",
              "      <th>away_score</th>\n",
              "      <th>tournament</th>\n",
              "      <th>Year</th>\n",
              "      <th>Home_Rank</th>\n",
              "      <th>Away_Rank</th>\n",
              "      <th>Final_Score</th>\n",
              "    </tr>\n",
              "  </thead>\n",
              "  <tbody>\n",
              "    <tr>\n",
              "      <th>40835</th>\n",
              "      <td>Fiji</td>\n",
              "      <td>Solomon Islands</td>\n",
              "      <td>4</td>\n",
              "      <td>4</td>\n",
              "      <td>Pacific Games</td>\n",
              "      <td>2019</td>\n",
              "      <td>165</td>\n",
              "      <td>143</td>\n",
              "      <td>Draw</td>\n",
              "    </tr>\n",
              "    <tr>\n",
              "      <th>40836</th>\n",
              "      <td>Senegal</td>\n",
              "      <td>Algeria</td>\n",
              "      <td>0</td>\n",
              "      <td>1</td>\n",
              "      <td>African Cup of Nations</td>\n",
              "      <td>2019</td>\n",
              "      <td>27</td>\n",
              "      <td>66</td>\n",
              "      <td>Loss</td>\n",
              "    </tr>\n",
              "    <tr>\n",
              "      <th>40837</th>\n",
              "      <td>Tajikistan</td>\n",
              "      <td>North Korea</td>\n",
              "      <td>0</td>\n",
              "      <td>1</td>\n",
              "      <td>Intercontinental Cup</td>\n",
              "      <td>2019</td>\n",
              "      <td>119</td>\n",
              "      <td>155</td>\n",
              "      <td>Loss</td>\n",
              "    </tr>\n",
              "    <tr>\n",
              "      <th>40838</th>\n",
              "      <td>Papua New Guinea</td>\n",
              "      <td>Fiji</td>\n",
              "      <td>1</td>\n",
              "      <td>1</td>\n",
              "      <td>Pacific Games</td>\n",
              "      <td>2019</td>\n",
              "      <td>166</td>\n",
              "      <td>165</td>\n",
              "      <td>Draw</td>\n",
              "    </tr>\n",
              "  </tbody>\n",
              "</table>\n",
              "</div>"
            ],
            "text/plain": [
              "              home_team        away_team  ...  Away_Rank  Final_Score\n",
              "40835              Fiji  Solomon Islands  ...        143         Draw\n",
              "40836           Senegal          Algeria  ...         66         Loss\n",
              "40837        Tajikistan      North Korea  ...        155         Loss\n",
              "40838  Papua New Guinea             Fiji  ...        165         Draw\n",
              "\n",
              "[4 rows x 9 columns]"
            ]
          },
          "metadata": {},
          "execution_count": 19
        }
      ]
    },
    {
      "cell_type": "code",
      "metadata": {
        "id": "Jxm656zojttW"
      },
      "source": [
        "#Coding the Labels to a machine readable format:\n",
        "le = LabelEncoder()\n",
        "Model['home_team'] = le.fit_transform (Model['home_team'])\n",
        "Model['away_team'] = le.fit_transform (Model['away_team'])\n",
        "Model['tournament'] = le.fit_transform (Model['tournament'])\n",
        "Model['Final_Score'] = le.fit_transform (Model['Final_Score'])\n"
      ],
      "execution_count": null,
      "outputs": []
    },
    {
      "cell_type": "code",
      "metadata": {
        "colab": {
          "base_uri": "https://localhost:8080/",
          "height": 174
        },
        "id": "0G7THrgYlEVs",
        "outputId": "ca4eea6c-4b1a-4d41-80b1-c2f94e686282"
      },
      "source": [
        "#Viewing the data after labelling:\n",
        "Model.head(4)"
      ],
      "execution_count": null,
      "outputs": [
        {
          "output_type": "execute_result",
          "data": {
            "text/html": [
              "<div>\n",
              "<style scoped>\n",
              "    .dataframe tbody tr th:only-of-type {\n",
              "        vertical-align: middle;\n",
              "    }\n",
              "\n",
              "    .dataframe tbody tr th {\n",
              "        vertical-align: top;\n",
              "    }\n",
              "\n",
              "    .dataframe thead th {\n",
              "        text-align: right;\n",
              "    }\n",
              "</style>\n",
              "<table border=\"1\" class=\"dataframe\">\n",
              "  <thead>\n",
              "    <tr style=\"text-align: right;\">\n",
              "      <th></th>\n",
              "      <th>home_team</th>\n",
              "      <th>away_team</th>\n",
              "      <th>home_score</th>\n",
              "      <th>away_score</th>\n",
              "      <th>tournament</th>\n",
              "      <th>Year</th>\n",
              "      <th>Home_Rank</th>\n",
              "      <th>Away_Rank</th>\n",
              "      <th>Final_Score</th>\n",
              "    </tr>\n",
              "  </thead>\n",
              "  <tbody>\n",
              "    <tr>\n",
              "      <th>17915</th>\n",
              "      <td>31</td>\n",
              "      <td>275</td>\n",
              "      <td>3</td>\n",
              "      <td>1</td>\n",
              "      <td>31</td>\n",
              "      <td>1993</td>\n",
              "      <td>59</td>\n",
              "      <td>22</td>\n",
              "      <td>2</td>\n",
              "    </tr>\n",
              "    <tr>\n",
              "      <th>17916</th>\n",
              "      <td>35</td>\n",
              "      <td>164</td>\n",
              "      <td>1</td>\n",
              "      <td>1</td>\n",
              "      <td>33</td>\n",
              "      <td>1993</td>\n",
              "      <td>8</td>\n",
              "      <td>14</td>\n",
              "      <td>0</td>\n",
              "    </tr>\n",
              "    <tr>\n",
              "      <th>17917</th>\n",
              "      <td>79</td>\n",
              "      <td>279</td>\n",
              "      <td>5</td>\n",
              "      <td>0</td>\n",
              "      <td>31</td>\n",
              "      <td>1993</td>\n",
              "      <td>35</td>\n",
              "      <td>94</td>\n",
              "      <td>2</td>\n",
              "    </tr>\n",
              "    <tr>\n",
              "      <th>17918</th>\n",
              "      <td>113</td>\n",
              "      <td>229</td>\n",
              "      <td>1</td>\n",
              "      <td>0</td>\n",
              "      <td>33</td>\n",
              "      <td>1993</td>\n",
              "      <td>65</td>\n",
              "      <td>86</td>\n",
              "      <td>2</td>\n",
              "    </tr>\n",
              "  </tbody>\n",
              "</table>\n",
              "</div>"
            ],
            "text/plain": [
              "       home_team  away_team  home_score  ...  Home_Rank  Away_Rank  Final_Score\n",
              "17915         31        275           3  ...         59         22            2\n",
              "17916         35        164           1  ...          8         14            0\n",
              "17917         79        279           5  ...         35         94            2\n",
              "17918        113        229           1  ...         65         86            2\n",
              "\n",
              "[4 rows x 9 columns]"
            ]
          },
          "metadata": {},
          "execution_count": 21
        }
      ]
    },
    {
      "cell_type": "code",
      "metadata": {
        "colab": {
          "base_uri": "https://localhost:8080/"
        },
        "id": "PF7NCMAqkoec",
        "outputId": "f84eaa6f-1929-4755-f901-abc0184fdf7b"
      },
      "source": [
        "#Training with data on information till 2018 as the rankings on the Fifa dataset was till 7th June 2018:\n",
        "MODEL = Model[Model.Year<= 2018]\n",
        "MODEL.shape"
      ],
      "execution_count": null,
      "outputs": [
        {
          "output_type": "execute_result",
          "data": {
            "text/plain": [
              "(22436, 9)"
            ]
          },
          "metadata": {},
          "execution_count": 22
        }
      ]
    },
    {
      "cell_type": "markdown",
      "metadata": {
        "id": "gl8p4yA8xa0N"
      },
      "source": [
        "# **Polynomial Approach**"
      ]
    },
    {
      "cell_type": "code",
      "metadata": {
        "colab": {
          "base_uri": "https://localhost:8080/",
          "height": 174
        },
        "id": "zroi4UBnxhYn",
        "outputId": "3c536568-a45d-4e5d-d4f9-e05f3abcff75"
      },
      "source": [
        "#Creating the dataframe to be used on the Polynomial Approach:\n",
        "Polynomial = MODEL[['home_team','away_team','home_score', 'away_score' ,'tournament', 'Home_Rank', 'Away_Rank']].copy()\n",
        "Polynomial.head(4)"
      ],
      "execution_count": null,
      "outputs": [
        {
          "output_type": "execute_result",
          "data": {
            "text/html": [
              "<div>\n",
              "<style scoped>\n",
              "    .dataframe tbody tr th:only-of-type {\n",
              "        vertical-align: middle;\n",
              "    }\n",
              "\n",
              "    .dataframe tbody tr th {\n",
              "        vertical-align: top;\n",
              "    }\n",
              "\n",
              "    .dataframe thead th {\n",
              "        text-align: right;\n",
              "    }\n",
              "</style>\n",
              "<table border=\"1\" class=\"dataframe\">\n",
              "  <thead>\n",
              "    <tr style=\"text-align: right;\">\n",
              "      <th></th>\n",
              "      <th>home_team</th>\n",
              "      <th>away_team</th>\n",
              "      <th>home_score</th>\n",
              "      <th>away_score</th>\n",
              "      <th>tournament</th>\n",
              "      <th>Home_Rank</th>\n",
              "      <th>Away_Rank</th>\n",
              "    </tr>\n",
              "  </thead>\n",
              "  <tbody>\n",
              "    <tr>\n",
              "      <th>17915</th>\n",
              "      <td>31</td>\n",
              "      <td>275</td>\n",
              "      <td>3</td>\n",
              "      <td>1</td>\n",
              "      <td>31</td>\n",
              "      <td>59</td>\n",
              "      <td>22</td>\n",
              "    </tr>\n",
              "    <tr>\n",
              "      <th>17916</th>\n",
              "      <td>35</td>\n",
              "      <td>164</td>\n",
              "      <td>1</td>\n",
              "      <td>1</td>\n",
              "      <td>33</td>\n",
              "      <td>8</td>\n",
              "      <td>14</td>\n",
              "    </tr>\n",
              "    <tr>\n",
              "      <th>17917</th>\n",
              "      <td>79</td>\n",
              "      <td>279</td>\n",
              "      <td>5</td>\n",
              "      <td>0</td>\n",
              "      <td>31</td>\n",
              "      <td>35</td>\n",
              "      <td>94</td>\n",
              "    </tr>\n",
              "    <tr>\n",
              "      <th>17918</th>\n",
              "      <td>113</td>\n",
              "      <td>229</td>\n",
              "      <td>1</td>\n",
              "      <td>0</td>\n",
              "      <td>33</td>\n",
              "      <td>65</td>\n",
              "      <td>86</td>\n",
              "    </tr>\n",
              "  </tbody>\n",
              "</table>\n",
              "</div>"
            ],
            "text/plain": [
              "       home_team  away_team  home_score  ...  tournament  Home_Rank  Away_Rank\n",
              "17915         31        275           3  ...          31         59         22\n",
              "17916         35        164           1  ...          33          8         14\n",
              "17917         79        279           5  ...          31         35         94\n",
              "17918        113        229           1  ...          33         65         86\n",
              "\n",
              "[4 rows x 7 columns]"
            ]
          },
          "metadata": {},
          "execution_count": 74
        }
      ]
    },
    {
      "cell_type": "markdown",
      "metadata": {
        "id": "bxIYpAe1rEz3"
      },
      "source": [
        "**Multicollinearity**"
      ]
    },
    {
      "cell_type": "markdown",
      "metadata": {
        "id": "5yjX8VmDrOP3"
      },
      "source": [
        "Multiple correlations of sufficient magnitude can have the potential of adversely affecting regression estimates. For this, a check needs to be done to avoid a bias  or inflation of standard errors"
      ]
    },
    {
      "cell_type": "code",
      "metadata": {
        "colab": {
          "base_uri": "https://localhost:8080/",
          "height": 269
        },
        "id": "VZyqH9AHsGnq",
        "outputId": "50cc815f-c73a-462a-83d4-151af1f953c0"
      },
      "source": [
        "#Checking for multicollinearity on the independent varibles through correlation:\n",
        "Cor = Polynomial.corr()\n",
        "Cor\n"
      ],
      "execution_count": null,
      "outputs": [
        {
          "output_type": "execute_result",
          "data": {
            "text/html": [
              "<div>\n",
              "<style scoped>\n",
              "    .dataframe tbody tr th:only-of-type {\n",
              "        vertical-align: middle;\n",
              "    }\n",
              "\n",
              "    .dataframe tbody tr th {\n",
              "        vertical-align: top;\n",
              "    }\n",
              "\n",
              "    .dataframe thead th {\n",
              "        text-align: right;\n",
              "    }\n",
              "</style>\n",
              "<table border=\"1\" class=\"dataframe\">\n",
              "  <thead>\n",
              "    <tr style=\"text-align: right;\">\n",
              "      <th></th>\n",
              "      <th>home_team</th>\n",
              "      <th>away_team</th>\n",
              "      <th>home_score</th>\n",
              "      <th>away_score</th>\n",
              "      <th>tournament</th>\n",
              "      <th>Home_Rank</th>\n",
              "      <th>Away_Rank</th>\n",
              "    </tr>\n",
              "  </thead>\n",
              "  <tbody>\n",
              "    <tr>\n",
              "      <th>home_team</th>\n",
              "      <td>1.000000</td>\n",
              "      <td>0.000325</td>\n",
              "      <td>0.016357</td>\n",
              "      <td>-0.024748</td>\n",
              "      <td>-0.023951</td>\n",
              "      <td>0.025722</td>\n",
              "      <td>0.029590</td>\n",
              "    </tr>\n",
              "    <tr>\n",
              "      <th>away_team</th>\n",
              "      <td>0.000325</td>\n",
              "      <td>1.000000</td>\n",
              "      <td>-0.037530</td>\n",
              "      <td>0.022180</td>\n",
              "      <td>-0.009656</td>\n",
              "      <td>0.031414</td>\n",
              "      <td>0.012212</td>\n",
              "    </tr>\n",
              "    <tr>\n",
              "      <th>home_score</th>\n",
              "      <td>0.016357</td>\n",
              "      <td>-0.037530</td>\n",
              "      <td>1.000000</td>\n",
              "      <td>-0.165442</td>\n",
              "      <td>-0.015513</td>\n",
              "      <td>-0.059304</td>\n",
              "      <td>0.262546</td>\n",
              "    </tr>\n",
              "    <tr>\n",
              "      <th>away_score</th>\n",
              "      <td>-0.024748</td>\n",
              "      <td>0.022180</td>\n",
              "      <td>-0.165442</td>\n",
              "      <td>1.000000</td>\n",
              "      <td>0.022501</td>\n",
              "      <td>0.183323</td>\n",
              "      <td>-0.091565</td>\n",
              "    </tr>\n",
              "    <tr>\n",
              "      <th>tournament</th>\n",
              "      <td>-0.023951</td>\n",
              "      <td>-0.009656</td>\n",
              "      <td>-0.015513</td>\n",
              "      <td>0.022501</td>\n",
              "      <td>1.000000</td>\n",
              "      <td>-0.156780</td>\n",
              "      <td>-0.169091</td>\n",
              "    </tr>\n",
              "    <tr>\n",
              "      <th>Home_Rank</th>\n",
              "      <td>0.025722</td>\n",
              "      <td>0.031414</td>\n",
              "      <td>-0.059304</td>\n",
              "      <td>0.183323</td>\n",
              "      <td>-0.156780</td>\n",
              "      <td>1.000000</td>\n",
              "      <td>0.443923</td>\n",
              "    </tr>\n",
              "    <tr>\n",
              "      <th>Away_Rank</th>\n",
              "      <td>0.029590</td>\n",
              "      <td>0.012212</td>\n",
              "      <td>0.262546</td>\n",
              "      <td>-0.091565</td>\n",
              "      <td>-0.169091</td>\n",
              "      <td>0.443923</td>\n",
              "      <td>1.000000</td>\n",
              "    </tr>\n",
              "  </tbody>\n",
              "</table>\n",
              "</div>"
            ],
            "text/plain": [
              "            home_team  away_team  home_score  ...  tournament  Home_Rank  Away_Rank\n",
              "home_team    1.000000   0.000325    0.016357  ...   -0.023951   0.025722   0.029590\n",
              "away_team    0.000325   1.000000   -0.037530  ...   -0.009656   0.031414   0.012212\n",
              "home_score   0.016357  -0.037530    1.000000  ...   -0.015513  -0.059304   0.262546\n",
              "away_score  -0.024748   0.022180   -0.165442  ...    0.022501   0.183323  -0.091565\n",
              "tournament  -0.023951  -0.009656   -0.015513  ...    1.000000  -0.156780  -0.169091\n",
              "Home_Rank    0.025722   0.031414   -0.059304  ...   -0.156780   1.000000   0.443923\n",
              "Away_Rank    0.029590   0.012212    0.262546  ...   -0.169091   0.443923   1.000000\n",
              "\n",
              "[7 rows x 7 columns]"
            ]
          },
          "metadata": {},
          "execution_count": 75
        }
      ]
    },
    {
      "cell_type": "markdown",
      "metadata": {
        "id": "Zkk3g-VpwVjN"
      },
      "source": [
        "From the matrix table the highest corelation is of 0.44 between Home rank and Away Rank. This is not considered strong to affect the analysis"
      ]
    },
    {
      "cell_type": "code",
      "metadata": {
        "colab": {
          "base_uri": "https://localhost:8080/",
          "height": 269
        },
        "id": "TGluAF2MtXe-",
        "outputId": "266475c7-450e-4457-d4fb-e668b7fe4821"
      },
      "source": [
        "#Another way of Checking for multicollinearity is through the Variance Inflation Factor\n",
        "#The VIF estimates how much the variance of a regression coefficient is inflated due to multicollinearity in the model.\n",
        "# 1 - Not correlated    1-5 - Moderately correlated   5 - Highly correlated\n",
        "#Testing on the independent variables:\n",
        "pd.DataFrame(np.linalg.inv(Cor.values), index = Cor.index, columns=Cor.columns)\n"
      ],
      "execution_count": null,
      "outputs": [
        {
          "output_type": "execute_result",
          "data": {
            "text/html": [
              "<div>\n",
              "<style scoped>\n",
              "    .dataframe tbody tr th:only-of-type {\n",
              "        vertical-align: middle;\n",
              "    }\n",
              "\n",
              "    .dataframe tbody tr th {\n",
              "        vertical-align: top;\n",
              "    }\n",
              "\n",
              "    .dataframe thead th {\n",
              "        text-align: right;\n",
              "    }\n",
              "</style>\n",
              "<table border=\"1\" class=\"dataframe\">\n",
              "  <thead>\n",
              "    <tr style=\"text-align: right;\">\n",
              "      <th></th>\n",
              "      <th>home_team</th>\n",
              "      <th>away_team</th>\n",
              "      <th>home_score</th>\n",
              "      <th>away_score</th>\n",
              "      <th>tournament</th>\n",
              "      <th>Home_Rank</th>\n",
              "      <th>Away_Rank</th>\n",
              "    </tr>\n",
              "  </thead>\n",
              "  <tbody>\n",
              "    <tr>\n",
              "      <th>home_team</th>\n",
              "      <td>1.002168</td>\n",
              "      <td>-0.000245</td>\n",
              "      <td>-0.010278</td>\n",
              "      <td>0.025972</td>\n",
              "      <td>0.017696</td>\n",
              "      <td>-0.023397</td>\n",
              "      <td>-0.011196</td>\n",
              "    </tr>\n",
              "    <tr>\n",
              "      <th>away_team</th>\n",
              "      <td>-0.000245</td>\n",
              "      <td>1.002566</td>\n",
              "      <td>0.037883</td>\n",
              "      <td>-0.013722</td>\n",
              "      <td>0.005136</td>\n",
              "      <td>-0.019805</td>\n",
              "      <td>-0.013778</td>\n",
              "    </tr>\n",
              "    <tr>\n",
              "      <th>home_score</th>\n",
              "      <td>-0.010278</td>\n",
              "      <td>0.037883</td>\n",
              "      <td>1.133816</td>\n",
              "      <td>0.112282</td>\n",
              "      <td>-0.016400</td>\n",
              "      <td>0.214268</td>\n",
              "      <td>-0.385448</td>\n",
              "    </tr>\n",
              "    <tr>\n",
              "      <th>away_score</th>\n",
              "      <td>0.025972</td>\n",
              "      <td>-0.013722</td>\n",
              "      <td>0.112282</td>\n",
              "      <td>1.089484</td>\n",
              "      <td>-0.034599</td>\n",
              "      <td>-0.282794</td>\n",
              "      <td>0.189367</td>\n",
              "    </tr>\n",
              "    <tr>\n",
              "      <th>tournament</th>\n",
              "      <td>0.017696</td>\n",
              "      <td>0.005136</td>\n",
              "      <td>-0.016400</td>\n",
              "      <td>-0.034599</td>\n",
              "      <td>1.039932</td>\n",
              "      <td>0.111452</td>\n",
              "      <td>0.126918</td>\n",
              "    </tr>\n",
              "    <tr>\n",
              "      <th>Home_Rank</th>\n",
              "      <td>-0.023397</td>\n",
              "      <td>-0.019805</td>\n",
              "      <td>0.214268</td>\n",
              "      <td>-0.282794</td>\n",
              "      <td>0.111452</td>\n",
              "      <td>1.383595</td>\n",
              "      <td>-0.676579</td>\n",
              "    </tr>\n",
              "    <tr>\n",
              "      <th>Away_Rank</th>\n",
              "      <td>-0.011196</td>\n",
              "      <td>-0.013778</td>\n",
              "      <td>-0.385448</td>\n",
              "      <td>0.189367</td>\n",
              "      <td>0.126918</td>\n",
              "      <td>-0.676579</td>\n",
              "      <td>1.440846</td>\n",
              "    </tr>\n",
              "  </tbody>\n",
              "</table>\n",
              "</div>"
            ],
            "text/plain": [
              "            home_team  away_team  home_score  ...  tournament  Home_Rank  Away_Rank\n",
              "home_team    1.002168  -0.000245   -0.010278  ...    0.017696  -0.023397  -0.011196\n",
              "away_team   -0.000245   1.002566    0.037883  ...    0.005136  -0.019805  -0.013778\n",
              "home_score  -0.010278   0.037883    1.133816  ...   -0.016400   0.214268  -0.385448\n",
              "away_score   0.025972  -0.013722    0.112282  ...   -0.034599  -0.282794   0.189367\n",
              "tournament   0.017696   0.005136   -0.016400  ...    1.039932   0.111452   0.126918\n",
              "Home_Rank   -0.023397  -0.019805    0.214268  ...    0.111452   1.383595  -0.676579\n",
              "Away_Rank   -0.011196  -0.013778   -0.385448  ...    0.126918  -0.676579   1.440846\n",
              "\n",
              "[7 rows x 7 columns]"
            ]
          },
          "metadata": {},
          "execution_count": 76
        }
      ]
    },
    {
      "cell_type": "markdown",
      "metadata": {
        "id": "pM56HJ7duitN"
      },
      "source": [
        "The more the VIF increases, the less reliable the regression results will be. A VIF above 10 indicates high correlation and is cause for concern. \n",
        "From the table, none of the variables has a value higher than 5, hence the data is appropriate for model training"
      ]
    },
    {
      "cell_type": "markdown",
      "metadata": {
        "id": "jDITWYW0v-VU"
      },
      "source": [
        "**Model 1**: Goals Home Team Scores"
      ]
    },
    {
      "cell_type": "code",
      "metadata": {
        "colab": {
          "base_uri": "https://localhost:8080/",
          "height": 174
        },
        "id": "dideLXdhv5Ul",
        "outputId": "58d92b1a-443b-4a56-f563-3ab7fa5359ea"
      },
      "source": [
        "#Picking Observations needed for the model:\n",
        "Model1 = Polynomial[['home_team','away_team','home_score' ,'away_score', 'tournament', 'Home_Rank', 'Away_Rank']].copy()\n",
        "Model1.head(4)"
      ],
      "execution_count": null,
      "outputs": [
        {
          "output_type": "execute_result",
          "data": {
            "text/html": [
              "<div>\n",
              "<style scoped>\n",
              "    .dataframe tbody tr th:only-of-type {\n",
              "        vertical-align: middle;\n",
              "    }\n",
              "\n",
              "    .dataframe tbody tr th {\n",
              "        vertical-align: top;\n",
              "    }\n",
              "\n",
              "    .dataframe thead th {\n",
              "        text-align: right;\n",
              "    }\n",
              "</style>\n",
              "<table border=\"1\" class=\"dataframe\">\n",
              "  <thead>\n",
              "    <tr style=\"text-align: right;\">\n",
              "      <th></th>\n",
              "      <th>home_team</th>\n",
              "      <th>away_team</th>\n",
              "      <th>home_score</th>\n",
              "      <th>away_score</th>\n",
              "      <th>tournament</th>\n",
              "      <th>Home_Rank</th>\n",
              "      <th>Away_Rank</th>\n",
              "    </tr>\n",
              "  </thead>\n",
              "  <tbody>\n",
              "    <tr>\n",
              "      <th>17915</th>\n",
              "      <td>31</td>\n",
              "      <td>275</td>\n",
              "      <td>3</td>\n",
              "      <td>1</td>\n",
              "      <td>31</td>\n",
              "      <td>59</td>\n",
              "      <td>22</td>\n",
              "    </tr>\n",
              "    <tr>\n",
              "      <th>17916</th>\n",
              "      <td>35</td>\n",
              "      <td>164</td>\n",
              "      <td>1</td>\n",
              "      <td>1</td>\n",
              "      <td>33</td>\n",
              "      <td>8</td>\n",
              "      <td>14</td>\n",
              "    </tr>\n",
              "    <tr>\n",
              "      <th>17917</th>\n",
              "      <td>79</td>\n",
              "      <td>279</td>\n",
              "      <td>5</td>\n",
              "      <td>0</td>\n",
              "      <td>31</td>\n",
              "      <td>35</td>\n",
              "      <td>94</td>\n",
              "    </tr>\n",
              "    <tr>\n",
              "      <th>17918</th>\n",
              "      <td>113</td>\n",
              "      <td>229</td>\n",
              "      <td>1</td>\n",
              "      <td>0</td>\n",
              "      <td>33</td>\n",
              "      <td>65</td>\n",
              "      <td>86</td>\n",
              "    </tr>\n",
              "  </tbody>\n",
              "</table>\n",
              "</div>"
            ],
            "text/plain": [
              "       home_team  away_team  home_score  ...  tournament  Home_Rank  Away_Rank\n",
              "17915         31        275           3  ...          31         59         22\n",
              "17916         35        164           1  ...          33          8         14\n",
              "17917         79        279           5  ...          31         35         94\n",
              "17918        113        229           1  ...          33         65         86\n",
              "\n",
              "[4 rows x 7 columns]"
            ]
          },
          "metadata": {},
          "execution_count": 176
        }
      ]
    },
    {
      "cell_type": "code",
      "metadata": {
        "colab": {
          "base_uri": "https://localhost:8080/"
        },
        "id": "4DscYwoB1Fvc",
        "outputId": "0797981b-bcbf-4c6e-d016-b2ecf3222ec7"
      },
      "source": [
        "#Creating the Variables:\n",
        "X = Model1[['home_team', 'away_team', 'tournament', 'Home_Rank', 'Away_Rank']]\n",
        "y = Model1['home_score']\n",
        "\n",
        "#Splitting the dataset:\n",
        "X_train, X_test, y_train, y_test = train_test_split(X, y, test_size=0.2, random_state= 0)\n",
        "print(X_train.shape, X_test.shape, y_train.shape, y_test.shape)\n"
      ],
      "execution_count": null,
      "outputs": [
        {
          "output_type": "stream",
          "name": "stdout",
          "text": [
            "(17948, 5) (4488, 5) (17948,) (4488,)\n"
          ]
        }
      ]
    },
    {
      "cell_type": "markdown",
      "metadata": {
        "id": "QvbhRyhddowd"
      },
      "source": [
        "To see if the model improves, we shall test it with a 3 and 5 degree of freedom."
      ]
    },
    {
      "cell_type": "markdown",
      "metadata": {
        "id": "hrBFajQPtiO3"
      },
      "source": [
        "3 degrees of freedom"
      ]
    },
    {
      "cell_type": "code",
      "metadata": {
        "id": "xYWeMBCbYxRh"
      },
      "source": [
        "#Performing feature scaling:\n",
        "sc = StandardScaler()\n",
        "X_train = sc.fit_transform(X_train)\n",
        "X_test = sc.transform(X_test)\n",
        "\n",
        "#Model Selection:\n",
        "#using 3 degrees of freedom:\n",
        "model = PolynomialFeatures(degree = 3) \n",
        "\n",
        "#Fitting the model:\n",
        "X_train = model.fit_transform(X_train)\n",
        "X_test = model.fit_transform(X_test)\n"
      ],
      "execution_count": null,
      "outputs": []
    },
    {
      "cell_type": "code",
      "metadata": {
        "colab": {
          "base_uri": "https://localhost:8080/"
        },
        "id": "kXOV8PXHjtNk",
        "outputId": "41779886-9467-4711-886f-24bfbe512b96"
      },
      "source": [
        "#Applying Linear Regression:\n",
        "Reg = LinearRegression()\n",
        "\n",
        "#Fitting X and y in the train test:\n",
        "Reg.fit(X_train, y_train)\n"
      ],
      "execution_count": null,
      "outputs": [
        {
          "output_type": "execute_result",
          "data": {
            "text/plain": [
              "LinearRegression()"
            ]
          },
          "metadata": {},
          "execution_count": 179
        }
      ]
    },
    {
      "cell_type": "code",
      "metadata": {
        "id": "qV-0GM3dj5GY"
      },
      "source": [
        "#Predicting in the test set:\n",
        "y_pred = Reg.predict(X_test)"
      ],
      "execution_count": null,
      "outputs": []
    },
    {
      "cell_type": "code",
      "metadata": {
        "colab": {
          "base_uri": "https://localhost:8080/"
        },
        "id": "D0-rqCha4QBS",
        "outputId": "f49e0ab7-8585-4c21-a1b1-75c6c3c3707c"
      },
      "source": [
        "#Printing the metrics performance:\n",
        "print('Mean Absolute Error (MAE):', metrics.mean_absolute_error(y_test, y_pred))  \n",
        "print('Mean Squared Error (MSE):', metrics.mean_squared_error(y_test, y_pred))  \n",
        "print('Root Mean Squared Error (RMSE) :', np.sqrt(metrics.mean_squared_error(y_test, y_pred)))\n",
        "print('Coefficient  of Determination (R^2): %.3f' % r2_score(y_test, y_pred ))"
      ],
      "execution_count": null,
      "outputs": [
        {
          "output_type": "stream",
          "name": "stdout",
          "text": [
            "Mean Absolute Error (MAE): 1.129319308243592\n",
            "Mean Squared Error (MSE): 2.7003859655634703\n",
            "Root Mean Squared Error (RMSE) : 1.6432851138994324\n",
            "Coefficient  of Determination (R^2): 0.132\n"
          ]
        }
      ]
    },
    {
      "cell_type": "markdown",
      "metadata": {
        "id": "K3B_P93atlW_"
      },
      "source": [
        "5 degrees of freedom"
      ]
    },
    {
      "cell_type": "code",
      "metadata": {
        "id": "XeXn2eucGWP7",
        "colab": {
          "base_uri": "https://localhost:8080/"
        },
        "outputId": "f684f016-ffd3-4437-a563-433c9890504b"
      },
      "source": [
        "#Creating the Variables:\n",
        "X = Model1[['home_team', 'away_team', 'tournament', 'Home_Rank', 'Away_Rank']].values\n",
        "y = Model1['home_score'].values\n",
        "\n",
        "#Splitting the dataset:\n",
        "X_train, X_test, y_train, y_test = train_test_split(X, y, test_size=0.2, random_state= 0)\n",
        "print(X_train.shape, X_test.shape, y_train.shape, y_test.shape)"
      ],
      "execution_count": null,
      "outputs": [
        {
          "output_type": "stream",
          "name": "stdout",
          "text": [
            "(17948, 5) (4488, 5) (17948,) (4488,)\n"
          ]
        }
      ]
    },
    {
      "cell_type": "code",
      "metadata": {
        "id": "D7jll2WrF4lY"
      },
      "source": [
        "#Performing feature scaling:\n",
        "sc = StandardScaler()\n",
        "X_train = sc.fit_transform(X_train)\n",
        "X_test = sc.transform(X_test)\n",
        "\n",
        "#Model Selection:\n",
        "#using 5 degrees of freedom:\n",
        "model = PolynomialFeatures(degree = 5) \n",
        "\n",
        "#Fitting the model:\n",
        "X_train = model.fit_transform(X_train)\n",
        "X_test = model.fit_transform(X_test)"
      ],
      "execution_count": null,
      "outputs": []
    },
    {
      "cell_type": "code",
      "metadata": {
        "id": "916-IU70F9IE",
        "colab": {
          "base_uri": "https://localhost:8080/"
        },
        "outputId": "13e804ef-9862-4e7e-c299-b2300f18e3ff"
      },
      "source": [
        "#Applying Linear Regression:\n",
        "Reg = LinearRegression()\n",
        "\n",
        "#Fitting X and y in the train test:\n",
        "Reg.fit(X_train, y_train)\n"
      ],
      "execution_count": null,
      "outputs": [
        {
          "output_type": "execute_result",
          "data": {
            "text/plain": [
              "LinearRegression()"
            ]
          },
          "metadata": {},
          "execution_count": 187
        }
      ]
    },
    {
      "cell_type": "code",
      "metadata": {
        "id": "9lnmAxk7GBMD"
      },
      "source": [
        "#Predicting in the test set:\n",
        "y_pred = Reg.predict(X_test)"
      ],
      "execution_count": null,
      "outputs": []
    },
    {
      "cell_type": "code",
      "metadata": {
        "id": "nhxHjz_zGD4p",
        "colab": {
          "base_uri": "https://localhost:8080/"
        },
        "outputId": "c65249db-7169-4e9b-e996-e5c016dc6b4b"
      },
      "source": [
        "#Printing the metrics performance:\n",
        "print('Mean Absolute Error (MAE):', metrics.mean_absolute_error(y_test, y_pred))  \n",
        "print('Mean Squared Error (MSE):', metrics.mean_squared_error(y_test, y_pred))  \n",
        "print('Root Mean Squared Error (RMSE) :', np.sqrt(metrics.mean_squared_error(y_test, y_pred)))\n",
        "print('Coefficient  of Determination (R^2): %.3f' % r2_score(y_test, y_pred ))\n",
        "\n",
        "#RMSE value ≥0.5 reflects the poor ability of the model to accurately predict the data."
      ],
      "execution_count": null,
      "outputs": [
        {
          "output_type": "stream",
          "name": "stdout",
          "text": [
            "Mean Absolute Error (MAE): 1.1255385919179772\n",
            "Mean Squared Error (MSE): 2.6684975226216094\n",
            "Root Mean Squared Error (RMSE) : 1.6335536485287556\n",
            "Coefficient  of Determination (R^2): 0.142\n"
          ]
        }
      ]
    },
    {
      "cell_type": "markdown",
      "metadata": {
        "id": "0VOUGZ_Vd7cw"
      },
      "source": [
        "From the metrics above, no major improvement happens when the degree of freedom is increased from 3 to 5. The RMSE for both stands at 1.6"
      ]
    },
    {
      "cell_type": "markdown",
      "metadata": {
        "id": "JeL1QDG7fYbB"
      },
      "source": [
        "Conclusions:\n",
        " \n",
        " A lower value of RMSE and a higher value of R^2 indicate a good model fit for the prediction. \n",
        " \n",
        " Being that there is no fixed threshold limit for RMSE, whenever the value is soo small or close to 0, the learning rate and the learning quality is high hence indications of  a better model. \n",
        " \n",
        " Since the RMSE tells how concentrated the data is along the line of best fit, the value of 1.6 might deem the model as not reliable.\n",
        "\n"
      ]
    },
    {
      "cell_type": "markdown",
      "metadata": {
        "id": "xx2r4j_Bgqs8"
      },
      "source": [
        "**Cross-Validation**"
      ]
    },
    {
      "cell_type": "code",
      "metadata": {
        "colab": {
          "base_uri": "https://localhost:8080/"
        },
        "id": "bAuukhabiBsz",
        "outputId": "25faeb91-e563-4b85-d9d0-0160398bb507"
      },
      "source": [
        "#Using K-fold to perform cross-validation to estimate the skill of the machine learning model on unseen data:\n",
        "\n",
        "#Creating the Variables:\n",
        "X = Model1[['home_team', 'away_team', 'tournament', 'Home_Rank', 'Away_Rank']].values\n",
        "y = Model1['home_score'].values\n",
        "\n",
        "folds = KFold(n_splits=5)\n",
        "\n",
        "print('we are using ' +str(folds.get_n_splits(X)) + ' folds')\n",
        "\n",
        "RMSES = [] \n",
        "count = 1\n",
        "\n",
        "for train_index, test_index in folds.split(X):\n",
        "  print('\\nTraining model ' + str(count))\n",
        "  \n",
        "  X_train, X_test = X[train_index], X[test_index]\n",
        "  y_train, y_test = y[train_index], y[test_index]\n",
        "  \n",
        "  # fit a model accordingly\n",
        "  regressor = LinearRegression()  \n",
        "  regressor.fit(X_train, y_train)\n",
        "  \n",
        "  # assess the accuraccy of the model\n",
        "  y_pred = regressor.predict(X_test)\n",
        "  \n",
        "  rmse_value =  np.sqrt(metrics.mean_squared_error(y_test, y_pred))\n",
        "  RMSES.append(rmse_value)\n",
        "  \n",
        "  print('Model ' + str(count) + ' Root Mean Squared Error:',rmse_value)\n",
        "  count = count + 1\n"
      ],
      "execution_count": null,
      "outputs": [
        {
          "output_type": "stream",
          "name": "stdout",
          "text": [
            "we are using 5 folds\n",
            "\n",
            "Training model 1\n",
            "Model 1 Root Mean Squared Error: 1.5941442079704264\n",
            "\n",
            "Training model 2\n",
            "Model 2 Root Mean Squared Error: 1.865962710239574\n",
            "\n",
            "Training model 3\n",
            "Model 3 Root Mean Squared Error: 1.541107057851204\n",
            "\n",
            "Training model 4\n",
            "Model 4 Root Mean Squared Error: 1.5398331071315745\n",
            "\n",
            "Training model 5\n",
            "Model 5 Root Mean Squared Error: 1.4808138725810374\n"
          ]
        }
      ]
    },
    {
      "cell_type": "code",
      "metadata": {
        "colab": {
          "base_uri": "https://localhost:8080/"
        },
        "id": "xtYtMJlklkeU",
        "outputId": "4fdca50c-0d6e-46d0-a7aa-e96e44542f34"
      },
      "source": [
        "#Comparing the average RMSES from the 5 training models:\n",
        "np.mean(RMSES)"
      ],
      "execution_count": null,
      "outputs": [
        {
          "output_type": "execute_result",
          "data": {
            "text/plain": [
              "1.6043721911547633"
            ]
          },
          "metadata": {},
          "execution_count": 197
        }
      ]
    },
    {
      "cell_type": "markdown",
      "metadata": {
        "id": "a6hYuayalx4v"
      },
      "source": [
        "The average of the 5 models is fairly close to the initial value of 1.63. \n",
        "However, it might be worthwile to pick model 5 instead as it has the lowest RMSE\n"
      ]
    },
    {
      "cell_type": "markdown",
      "metadata": {
        "id": "_Z-n5t2sm5p7"
      },
      "source": [
        "**Residual plots**\n"
      ]
    },
    {
      "cell_type": "code",
      "metadata": {
        "colab": {
          "base_uri": "https://localhost:8080/"
        },
        "id": "yOuDb5ku52q4",
        "outputId": "2db3be09-1c98-4702-8143-4353c852181c"
      },
      "source": [
        "#To find the residual mean:\n",
        "residuals = np.subtract(y_pred, y_test)\n",
        "\n",
        "#Describe the residual:\n",
        "pd.DataFrame(residuals).describe()\n",
        "residuals.mean()"
      ],
      "execution_count": null,
      "outputs": [
        {
          "output_type": "execute_result",
          "data": {
            "text/plain": [
              "0.15701605988389056"
            ]
          },
          "metadata": {},
          "execution_count": 198
        }
      ]
    },
    {
      "cell_type": "code",
      "metadata": {
        "colab": {
          "base_uri": "https://localhost:8080/",
          "height": 295
        },
        "id": "BxU1imju57GF",
        "outputId": "e473599b-fb4f-442a-ba90-3b7fecbf6b62"
      },
      "source": [
        "#Plotting the residual plot: \n",
        "plt.scatter(y_pred, residuals, color='black')\n",
        "plt.ylabel('residual')\n",
        "plt.xlabel('fitted values')\n",
        "plt.axhline(y= residuals.mean(), color='red', linewidth=1)\n",
        "plt.title('Residual Plot')\n",
        "plt.show()"
      ],
      "execution_count": null,
      "outputs": [
        {
          "output_type": "display_data",
          "data": {
            "image/png": "[encoded data removed]",
            "text/plain": [
              "<Figure size 432x288 with 1 Axes>"
            ]
          },
          "metadata": {
            "needs_background": "light"
          }
        }
      ]
    },
    {
      "cell_type": "markdown",
      "metadata": {
        "id": "dK_jGN3LpPjE"
      },
      "source": [
        " - A clear pattern exists in the plot showing signs of non-linearity in the data.\n",
        " - The plots signifies that we have not completely captured the predictive information of the data in our model hence model is not a good predictor"
      ]
    },
    {
      "cell_type": "markdown",
      "metadata": {
        "id": "mmqPa7hQtruG"
      },
      "source": [
        "**Bartlett's Test (heteroskedasticity testing)**"
      ]
    },
    {
      "cell_type": "code",
      "metadata": {
        "colab": {
          "base_uri": "https://localhost:8080/"
        },
        "id": "SB3Z-lF7ndxn",
        "outputId": "64d04e44-d2ac-4e12-c053-12bc564eb0e3"
      },
      "source": [
        "#Using Barlett test to test if the variances are equal for all samples:\n",
        "test_result, p_value = sp.stats.bartlett(y_pred, residuals)\n",
        "\n",
        "degree_of_freedom = len(y_pred)-1\n",
        "probability = 1 - p_value\n",
        "\n",
        "critical_value = sp.stats.chi2.ppf(probability, degree_of_freedom)\n",
        "\n",
        "if (test_result > critical_value):\n",
        "  print('the variances are unequal, and the model should be reassessed')\n",
        "else:\n",
        "  print('the variances are homogeneous!')\n"
      ],
      "execution_count": null,
      "outputs": [
        {
          "output_type": "stream",
          "name": "stdout",
          "text": [
            "the variances are homogeneous!\n"
          ]
        }
      ]
    },
    {
      "cell_type": "markdown",
      "metadata": {
        "id": "IeRibQYPt9QQ"
      },
      "source": [
        "The test checks that the assumption of equal variances is true before running certain statistical tests. \n",
        "\n",
        "From the test, the variances are homogeneous hence equal and the model does not need futher assessment"
      ]
    },
    {
      "cell_type": "markdown",
      "metadata": {
        "id": "RHVSKtTLw-uw"
      },
      "source": [
        "**Model 2**: Goals Away Team Scores"
      ]
    },
    {
      "cell_type": "code",
      "metadata": {
        "colab": {
          "base_uri": "https://localhost:8080/",
          "height": 174
        },
        "id": "7IDTmsJcw_pQ",
        "outputId": "f2ad264e-9dba-4282-cbaf-1ec83a7399af"
      },
      "source": [
        "#Picking Observations needed for the model:\n",
        "Model2 = Polynomial[['home_team','away_team','home_score', 'away_score' ,'tournament', 'Home_Rank', 'Away_Rank']].copy()\n",
        "Model2.head(4)"
      ],
      "execution_count": null,
      "outputs": [
        {
          "output_type": "execute_result",
          "data": {
            "text/html": [
              "<div>\n",
              "<style scoped>\n",
              "    .dataframe tbody tr th:only-of-type {\n",
              "        vertical-align: middle;\n",
              "    }\n",
              "\n",
              "    .dataframe tbody tr th {\n",
              "        vertical-align: top;\n",
              "    }\n",
              "\n",
              "    .dataframe thead th {\n",
              "        text-align: right;\n",
              "    }\n",
              "</style>\n",
              "<table border=\"1\" class=\"dataframe\">\n",
              "  <thead>\n",
              "    <tr style=\"text-align: right;\">\n",
              "      <th></th>\n",
              "      <th>home_team</th>\n",
              "      <th>away_team</th>\n",
              "      <th>home_score</th>\n",
              "      <th>away_score</th>\n",
              "      <th>tournament</th>\n",
              "      <th>Home_Rank</th>\n",
              "      <th>Away_Rank</th>\n",
              "    </tr>\n",
              "  </thead>\n",
              "  <tbody>\n",
              "    <tr>\n",
              "      <th>17915</th>\n",
              "      <td>31</td>\n",
              "      <td>275</td>\n",
              "      <td>3</td>\n",
              "      <td>1</td>\n",
              "      <td>31</td>\n",
              "      <td>59</td>\n",
              "      <td>22</td>\n",
              "    </tr>\n",
              "    <tr>\n",
              "      <th>17916</th>\n",
              "      <td>35</td>\n",
              "      <td>164</td>\n",
              "      <td>1</td>\n",
              "      <td>1</td>\n",
              "      <td>33</td>\n",
              "      <td>8</td>\n",
              "      <td>14</td>\n",
              "    </tr>\n",
              "    <tr>\n",
              "      <th>17917</th>\n",
              "      <td>79</td>\n",
              "      <td>279</td>\n",
              "      <td>5</td>\n",
              "      <td>0</td>\n",
              "      <td>31</td>\n",
              "      <td>35</td>\n",
              "      <td>94</td>\n",
              "    </tr>\n",
              "    <tr>\n",
              "      <th>17918</th>\n",
              "      <td>113</td>\n",
              "      <td>229</td>\n",
              "      <td>1</td>\n",
              "      <td>0</td>\n",
              "      <td>33</td>\n",
              "      <td>65</td>\n",
              "      <td>86</td>\n",
              "    </tr>\n",
              "  </tbody>\n",
              "</table>\n",
              "</div>"
            ],
            "text/plain": [
              "       home_team  away_team  home_score  ...  tournament  Home_Rank  Away_Rank\n",
              "17915         31        275           3  ...          31         59         22\n",
              "17916         35        164           1  ...          33          8         14\n",
              "17917         79        279           5  ...          31         35         94\n",
              "17918        113        229           1  ...          33         65         86\n",
              "\n",
              "[4 rows x 7 columns]"
            ]
          },
          "metadata": {},
          "execution_count": 201
        }
      ]
    },
    {
      "cell_type": "markdown",
      "metadata": {
        "id": "LIaMFLnDAIoN"
      },
      "source": [
        "Performing a similar process for the second model:"
      ]
    },
    {
      "cell_type": "code",
      "metadata": {
        "colab": {
          "base_uri": "https://localhost:8080/"
        },
        "id": "Ds-6BIMMy41y",
        "outputId": "a3c1e9e8-b137-45d0-db35-04b09ccfb5ae"
      },
      "source": [
        "#Creating the Variables:\n",
        "X = Model2[['home_team', 'away_team', 'tournament', 'Home_Rank', 'Away_Rank']]\n",
        "y = Model2['away_score']\n",
        "\n",
        "#Splitting the dataset:\n",
        "X_train, X_test, y_train, y_test = train_test_split(X, y, test_size=0.2, random_state= 0)\n",
        "print(X_train.shape, X_test.shape, y_train.shape, y_test.shape)\n"
      ],
      "execution_count": null,
      "outputs": [
        {
          "output_type": "stream",
          "name": "stdout",
          "text": [
            "(17948, 5) (4488, 5) (17948,) (4488,)\n"
          ]
        }
      ]
    },
    {
      "cell_type": "markdown",
      "metadata": {
        "id": "VuhuDQ3Ozmcr"
      },
      "source": [
        "3 degrees of freedom"
      ]
    },
    {
      "cell_type": "code",
      "metadata": {
        "id": "Zwyh_9X7zKBH"
      },
      "source": [
        "#Performing feature scaling:\n",
        "sc = StandardScaler()\n",
        "X_train = sc.fit_transform(X_train)\n",
        "X_test = sc.transform(X_test)\n",
        "\n",
        "#Model Selection:\n",
        "#using 3 degrees of freedom:\n",
        "model = PolynomialFeatures(degree = 3) \n",
        "\n",
        "#Fitting the model:\n",
        "X_train = model.fit_transform(X_train)\n",
        "X_test = model.fit_transform(X_test)"
      ],
      "execution_count": null,
      "outputs": []
    },
    {
      "cell_type": "code",
      "metadata": {
        "colab": {
          "base_uri": "https://localhost:8080/"
        },
        "id": "iNejbojLzQlm",
        "outputId": "993d8f2e-577b-46e9-ccd3-9d0a3a14256b"
      },
      "source": [
        "#Applying Linear Regression:\n",
        "Reg = LinearRegression()\n",
        "\n",
        "#Fitting X and y in the train test:\n",
        "Reg.fit(X_train, y_train)\n"
      ],
      "execution_count": null,
      "outputs": [
        {
          "output_type": "execute_result",
          "data": {
            "text/plain": [
              "LinearRegression()"
            ]
          },
          "metadata": {},
          "execution_count": 204
        }
      ]
    },
    {
      "cell_type": "code",
      "metadata": {
        "id": "WO9repe2zWie"
      },
      "source": [
        "#Predicting in the test set:\n",
        "y_pred = Reg.predict(X_test)"
      ],
      "execution_count": null,
      "outputs": []
    },
    {
      "cell_type": "code",
      "metadata": {
        "colab": {
          "base_uri": "https://localhost:8080/"
        },
        "id": "Y6CrOAJSzccC",
        "outputId": "bdbf1417-5153-4e42-9120-7337c850a342"
      },
      "source": [
        "#Printing the metrics performance:\n",
        "print('Mean Absolute Error (MAE):', metrics.mean_absolute_error(y_test, y_pred))  \n",
        "print('Mean Squared Error (MSE):', metrics.mean_squared_error(y_test, y_pred))  \n",
        "print('Root Mean Squared Error (RMSE) :', np.sqrt(metrics.mean_squared_error(y_test, y_pred)))\n",
        "print('Coefficient  of Determination (R^2): %.3f' % r2_score(y_test, y_pred ))"
      ],
      "execution_count": null,
      "outputs": [
        {
          "output_type": "stream",
          "name": "stdout",
          "text": [
            "Mean Absolute Error (MAE): 0.9184685756825375\n",
            "Mean Squared Error (MSE): 1.6073649997257264\n",
            "Root Mean Squared Error (RMSE) : 1.267818993281662\n",
            "Coefficient  of Determination (R^2): 0.100\n"
          ]
        }
      ]
    },
    {
      "cell_type": "markdown",
      "metadata": {
        "id": "cah0yy2hzqMU"
      },
      "source": [
        "5 degrees of freedom"
      ]
    },
    {
      "cell_type": "code",
      "metadata": {
        "colab": {
          "base_uri": "https://localhost:8080/"
        },
        "id": "5FhSOJHgz6ZA",
        "outputId": "6b86d7f4-efc4-4f78-f4ad-a58256eee68a"
      },
      "source": [
        "#Creating the Variables:\n",
        "X = Model2[['home_team', 'away_team', 'tournament', 'Home_Rank', 'Away_Rank']]\n",
        "y = Model2['away_score']\n",
        "\n",
        "#Splitting the dataset:\n",
        "X_train, X_test, y_train, y_test = train_test_split(X, y, test_size=0.2, random_state= 0)\n",
        "print(X_train.shape, X_test.shape, y_train.shape, y_test.shape)\n"
      ],
      "execution_count": null,
      "outputs": [
        {
          "output_type": "stream",
          "name": "stdout",
          "text": [
            "(17948, 5) (4488, 5) (17948,) (4488,)\n"
          ]
        }
      ]
    },
    {
      "cell_type": "code",
      "metadata": {
        "id": "hUbrL5b1z7bo"
      },
      "source": [
        "#Performing feature scaling:\n",
        "sc = StandardScaler()\n",
        "X_train = sc.fit_transform(X_train)\n",
        "X_test = sc.transform(X_test)\n",
        "\n",
        "#Model Selection:\n",
        "#using 5 degrees of freedom:\n",
        "model = PolynomialFeatures(degree = 5) \n",
        "\n",
        "#Fitting the model:\n",
        "X_train = model.fit_transform(X_train)\n",
        "X_test = model.fit_transform(X_test)"
      ],
      "execution_count": null,
      "outputs": []
    },
    {
      "cell_type": "code",
      "metadata": {
        "colab": {
          "base_uri": "https://localhost:8080/"
        },
        "id": "DiRDflZvz_mx",
        "outputId": "86ff7cd3-c29f-450c-af24-f94acb195977"
      },
      "source": [
        "#Applying Linear Regression:\n",
        "Reg = LinearRegression()\n",
        "\n",
        "#Fitting X and y in the train test:\n",
        "Reg.fit(X_train, y_train)"
      ],
      "execution_count": null,
      "outputs": [
        {
          "output_type": "execute_result",
          "data": {
            "text/plain": [
              "LinearRegression()"
            ]
          },
          "metadata": {},
          "execution_count": 215
        }
      ]
    },
    {
      "cell_type": "code",
      "metadata": {
        "id": "TyrrQMEC0DO0"
      },
      "source": [
        "#Predicting in the test set:\n",
        "y_pred = Reg.predict(X_test)"
      ],
      "execution_count": null,
      "outputs": []
    },
    {
      "cell_type": "code",
      "metadata": {
        "colab": {
          "base_uri": "https://localhost:8080/"
        },
        "id": "GyVqb_dR0Gnf",
        "outputId": "cc14248c-fa85-4994-c7c8-6bcbf4c489f1"
      },
      "source": [
        "#Printing the metrics performance:\n",
        "print('Mean Absolute Error (MAE):', metrics.mean_absolute_error(y_test, y_pred))  \n",
        "print('Mean Squared Error (MSE):', metrics.mean_squared_error(y_test, y_pred))  \n",
        "print('Root Mean Squared Error (RMSE) :', np.sqrt(metrics.mean_squared_error(y_test, y_pred)))\n",
        "print('Coefficient  of Determination (R^2): %.3f' % r2_score(y_test, y_pred ))"
      ],
      "execution_count": null,
      "outputs": [
        {
          "output_type": "stream",
          "name": "stdout",
          "text": [
            "Mean Absolute Error (MAE): 0.9182957128387317\n",
            "Mean Squared Error (MSE): 1.603553533627419\n",
            "Root Mean Squared Error (RMSE) : 1.2663149425113087\n",
            "Coefficient  of Determination (R^2): 0.102\n"
          ]
        }
      ]
    },
    {
      "cell_type": "markdown",
      "metadata": {
        "id": "cpG_H3jmBB6g"
      },
      "source": [
        "Both degrees yield an RMSE of 1.27. Similar to the first model, an RMSE close to zero and R-Square approaching 1 are indicative of high accuracy between observed and predicted values hence the model may not be a good predictor"
      ]
    },
    {
      "cell_type": "markdown",
      "metadata": {
        "id": "5RKpA2xM09NL"
      },
      "source": [
        "**Cross-Validation**"
      ]
    },
    {
      "cell_type": "code",
      "metadata": {
        "colab": {
          "base_uri": "https://localhost:8080/"
        },
        "id": "lyyRtClX1AR5",
        "outputId": "927bc7c9-0fb5-4feb-f1b8-af47553b063d"
      },
      "source": [
        "#Using K-fold to perform cross-validation to estimate the skill of the machine learning model on unseen data:\n",
        "\n",
        "#Creating the Variables:\n",
        "X = Model1[['home_team', 'away_team', 'tournament', 'Home_Rank', 'Away_Rank']].values\n",
        "y = Model1['away_score'].values\n",
        "\n",
        "folds = KFold(n_splits=5)\n",
        "\n",
        "print('we are using ' +str(folds.get_n_splits(X)) + ' folds')\n",
        "\n",
        "RMSES = [] \n",
        "count = 1\n",
        "\n",
        "for train_index, test_index in folds.split(X):\n",
        "  print('\\nTraining model ' + str(count))\n",
        "  \n",
        "  X_train, X_test = X[train_index], X[test_index]\n",
        "  y_train, y_test = y[train_index], y[test_index]\n",
        "  \n",
        "  # fit a model accordingly\n",
        "  regressor = LinearRegression()  \n",
        "  regressor.fit(X_train, y_train)\n",
        "  \n",
        "  # assess the accuraccy of the model\n",
        "  y_pred = regressor.predict(X_test)\n",
        "  \n",
        "  rmse_value =  np.sqrt(metrics.mean_squared_error(y_test, y_pred))\n",
        "  RMSES.append(rmse_value)\n",
        "  \n",
        "  print('Model ' + str(count) + ' Root Mean Squared Error:',rmse_value)\n",
        "  count = count + 1\n"
      ],
      "execution_count": null,
      "outputs": [
        {
          "output_type": "stream",
          "name": "stdout",
          "text": [
            "we are using 5 folds\n",
            "\n",
            "Training model 1\n",
            "Model 1 Root Mean Squared Error: 1.295617660189613\n",
            "\n",
            "Training model 2\n",
            "Model 2 Root Mean Squared Error: 1.3137225800521086\n",
            "\n",
            "Training model 3\n",
            "Model 3 Root Mean Squared Error: 1.270271767996328\n",
            "\n",
            "Training model 4\n",
            "Model 4 Root Mean Squared Error: 1.299689998222034\n",
            "\n",
            "Training model 5\n",
            "Model 5 Root Mean Squared Error: 1.2931493134161045\n"
          ]
        }
      ]
    },
    {
      "cell_type": "code",
      "metadata": {
        "colab": {
          "base_uri": "https://localhost:8080/"
        },
        "id": "hNbQsl821P09",
        "outputId": "a06f4732-5a82-466e-b49f-f1245f4826fd"
      },
      "source": [
        "#Comparing the average RMSES from the 5 training models:\n",
        "np.mean(RMSES)"
      ],
      "execution_count": null,
      "outputs": [
        {
          "output_type": "execute_result",
          "data": {
            "text/plain": [
              "1.2944902639752376"
            ]
          },
          "metadata": {},
          "execution_count": 221
        }
      ]
    },
    {
      "cell_type": "markdown",
      "metadata": {
        "id": "jFhGdC0ACnpD"
      },
      "source": [
        "The average of the 5 models is fairly close to the initial value of 1.27. \n",
        "However, it might be worthwile to pick model 3 instead as it has the lowest RMSE\n"
      ]
    },
    {
      "cell_type": "markdown",
      "metadata": {
        "id": "rfzeAiLR1ZdO"
      },
      "source": [
        "**Residual Plot**"
      ]
    },
    {
      "cell_type": "code",
      "metadata": {
        "colab": {
          "base_uri": "https://localhost:8080/"
        },
        "id": "wOr6nLWe1Xqi",
        "outputId": "2f612c79-aa27-48db-b626-f30c6d5abd7a"
      },
      "source": [
        "#To find the residual mean:\n",
        "residuals = np.subtract(y_pred, y_test)\n",
        "\n",
        "#Describe the residual:\n",
        "pd.DataFrame(residuals).describe()\n",
        "residuals.mean()"
      ],
      "execution_count": null,
      "outputs": [
        {
          "output_type": "execute_result",
          "data": {
            "text/plain": [
              "0.009298511421383604"
            ]
          },
          "metadata": {},
          "execution_count": 222
        }
      ]
    },
    {
      "cell_type": "code",
      "metadata": {
        "colab": {
          "base_uri": "https://localhost:8080/",
          "height": 295
        },
        "id": "yLH6S7031hJL",
        "outputId": "b4419b5f-b2f1-4a26-964e-7092f7435218"
      },
      "source": [
        "#Plotting the residual plot: \n",
        "plt.scatter(y_pred, residuals, color='black')\n",
        "plt.ylabel('residual')\n",
        "plt.xlabel('fitted values')\n",
        "plt.axhline(y= residuals.mean(), color='red', linewidth=1)\n",
        "plt.title('Residual Plot')\n",
        "plt.show()"
      ],
      "execution_count": null,
      "outputs": [
        {
          "output_type": "display_data",
          "data": {
            "image/png": "[encoded data removed]",
            "text/plain": [
              "<Figure size 432x288 with 1 Axes>"
            ]
          },
          "metadata": {
            "needs_background": "light"
          }
        }
      ]
    },
    {
      "cell_type": "markdown",
      "metadata": {
        "id": "TAfwjuo4C_9I"
      },
      "source": [
        "A good model is one with no direction, shape, patterns or bends. From the plot above, the Model can be deemed as not being a good predictor. \n",
        "\n",
        "The model either needs improvement or the dataset is probably not a good fit for regression"
      ]
    },
    {
      "cell_type": "markdown",
      "metadata": {
        "id": "v292P16p10lr"
      },
      "source": [
        "**Bartlett's Test (heteroskedasticity testing)**"
      ]
    },
    {
      "cell_type": "code",
      "metadata": {
        "colab": {
          "base_uri": "https://localhost:8080/"
        },
        "id": "0HcE2nTU1qOp",
        "outputId": "ff7d90ec-8ada-432f-9aa0-44b0f9108ed3"
      },
      "source": [
        "#Using Barlett test to test if the variances are equal for all samples:\n",
        "test_result, p_value = sp.stats.bartlett(y_pred, residuals)\n",
        "\n",
        "degree_of_freedom = len(y_pred)-1\n",
        "probability = 1 - p_value\n",
        "\n",
        "critical_value = sp.stats.chi2.ppf(probability, degree_of_freedom)\n",
        "\n",
        "\n",
        "if (test_result > critical_value):\n",
        "  print('the variances are unequal, and the model should be reassessed')\n",
        "else:\n",
        "  print('the variances are homogeneous!')\n"
      ],
      "execution_count": null,
      "outputs": [
        {
          "output_type": "stream",
          "name": "stdout",
          "text": [
            "the variances are homogeneous!\n"
          ]
        }
      ]
    },
    {
      "cell_type": "markdown",
      "metadata": {
        "id": "QM8TzTJJDTSc"
      },
      "source": [
        "The variances are equal hence no need for further assessments"
      ]
    },
    {
      "cell_type": "markdown",
      "metadata": {
        "id": "JPksY2rPDZ_k"
      },
      "source": [
        "Conclusion:\n",
        "- From the Models, the various metrics and plots created indicate that the approach did not yield a good predictor model.\n",
        "- Ways to improve it is either increase the number of input features or explore more classifiers"
      ]
    },
    {
      "cell_type": "markdown",
      "metadata": {
        "id": "YcGM8cW7iqux"
      },
      "source": [
        "# **Logistic Approach**"
      ]
    },
    {
      "cell_type": "code",
      "metadata": {
        "colab": {
          "base_uri": "https://localhost:8080/",
          "height": 174
        },
        "id": "x3j0mUX2lWUj",
        "outputId": "f2c39d3a-4fa9-4402-d0c8-21da8191936e"
      },
      "source": [
        "#Creating the dataframe to be used:\n",
        "Logistic = MODEL[['home_team','away_team','home_score', 'away_score' ,'tournament','Year', 'Home_Rank', 'Away_Rank', 'Final_Score']].copy()\n",
        "Logistic.head(4)"
      ],
      "execution_count": null,
      "outputs": [
        {
          "output_type": "execute_result",
          "data": {
            "text/html": [
              "<div>\n",
              "<style scoped>\n",
              "    .dataframe tbody tr th:only-of-type {\n",
              "        vertical-align: middle;\n",
              "    }\n",
              "\n",
              "    .dataframe tbody tr th {\n",
              "        vertical-align: top;\n",
              "    }\n",
              "\n",
              "    .dataframe thead th {\n",
              "        text-align: right;\n",
              "    }\n",
              "</style>\n",
              "<table border=\"1\" class=\"dataframe\">\n",
              "  <thead>\n",
              "    <tr style=\"text-align: right;\">\n",
              "      <th></th>\n",
              "      <th>home_team</th>\n",
              "      <th>away_team</th>\n",
              "      <th>home_score</th>\n",
              "      <th>away_score</th>\n",
              "      <th>tournament</th>\n",
              "      <th>Year</th>\n",
              "      <th>Home_Rank</th>\n",
              "      <th>Away_Rank</th>\n",
              "      <th>Final_Score</th>\n",
              "    </tr>\n",
              "  </thead>\n",
              "  <tbody>\n",
              "    <tr>\n",
              "      <th>17915</th>\n",
              "      <td>31</td>\n",
              "      <td>275</td>\n",
              "      <td>3</td>\n",
              "      <td>1</td>\n",
              "      <td>31</td>\n",
              "      <td>1993</td>\n",
              "      <td>59</td>\n",
              "      <td>22</td>\n",
              "      <td>2</td>\n",
              "    </tr>\n",
              "    <tr>\n",
              "      <th>17916</th>\n",
              "      <td>35</td>\n",
              "      <td>164</td>\n",
              "      <td>1</td>\n",
              "      <td>1</td>\n",
              "      <td>33</td>\n",
              "      <td>1993</td>\n",
              "      <td>8</td>\n",
              "      <td>14</td>\n",
              "      <td>0</td>\n",
              "    </tr>\n",
              "    <tr>\n",
              "      <th>17917</th>\n",
              "      <td>79</td>\n",
              "      <td>279</td>\n",
              "      <td>5</td>\n",
              "      <td>0</td>\n",
              "      <td>31</td>\n",
              "      <td>1993</td>\n",
              "      <td>35</td>\n",
              "      <td>94</td>\n",
              "      <td>2</td>\n",
              "    </tr>\n",
              "    <tr>\n",
              "      <th>17918</th>\n",
              "      <td>113</td>\n",
              "      <td>229</td>\n",
              "      <td>1</td>\n",
              "      <td>0</td>\n",
              "      <td>33</td>\n",
              "      <td>1993</td>\n",
              "      <td>65</td>\n",
              "      <td>86</td>\n",
              "      <td>2</td>\n",
              "    </tr>\n",
              "  </tbody>\n",
              "</table>\n",
              "</div>"
            ],
            "text/plain": [
              "       home_team  away_team  home_score  ...  Home_Rank  Away_Rank  Final_Score\n",
              "17915         31        275           3  ...         59         22            2\n",
              "17916         35        164           1  ...          8         14            0\n",
              "17917         79        279           5  ...         35         94            2\n",
              "17918        113        229           1  ...         65         86            2\n",
              "\n",
              "[4 rows x 9 columns]"
            ]
          },
          "metadata": {},
          "execution_count": 23
        }
      ]
    },
    {
      "cell_type": "code",
      "metadata": {
        "id": "vw9yHpA_izMQ"
      },
      "source": [
        "#Assigning the Variables:\n",
        "X = Logistic.drop(\"Final_Score\",axis=1)\n",
        "y = Logistic[\"Final_Score\"]\n",
        "\n",
        "#Splitting the dataset:\n",
        "X_train, X_test, y_train, y_test = train_test_split(X, y, test_size=0.2, random_state= 0)"
      ],
      "execution_count": null,
      "outputs": []
    },
    {
      "cell_type": "code",
      "metadata": {
        "id": "KNZH6LxsmRAV",
        "colab": {
          "base_uri": "https://localhost:8080/"
        },
        "outputId": "0b74eb16-3a9b-49bf-c866-8b593a5f5cb9"
      },
      "source": [
        "\n",
        "#Performing feature scaling:\n",
        "sc = StandardScaler()\n",
        "X_train = sc.fit_transform(X_train)\n",
        "X_test = sc.transform(X_test)\n",
        "\n",
        "#Model Selection:\n",
        "model = LogisticRegression()\n",
        "\n",
        "#Fitting the model:\n",
        "model.fit(X_train,y_train )\n"
      ],
      "execution_count": null,
      "outputs": [
        {
          "output_type": "execute_result",
          "data": {
            "text/plain": [
              "LogisticRegression()"
            ]
          },
          "metadata": {},
          "execution_count": 25
        }
      ]
    },
    {
      "cell_type": "markdown",
      "metadata": {
        "id": "XNc8LjU9FA9U"
      },
      "source": [
        "Model Evaluation"
      ]
    },
    {
      "cell_type": "code",
      "metadata": {
        "colab": {
          "base_uri": "https://localhost:8080/"
        },
        "id": "LRGnJd8irsli",
        "outputId": "3970a383-eab1-45a1-a208-3361b0186897"
      },
      "source": [
        "#Checking the accuracy of the model:\n",
        "print(\"Accuracy:\",model.score(X_test, y_test )* 100)"
      ],
      "execution_count": null,
      "outputs": [
        {
          "output_type": "stream",
          "name": "stdout",
          "text": [
            "Accuracy: 100.0\n"
          ]
        }
      ]
    },
    {
      "cell_type": "code",
      "metadata": {
        "colab": {
          "base_uri": "https://localhost:8080/"
        },
        "id": "eonHmLsPrw8r",
        "outputId": "6f149d43-2b6a-41ed-80db-728127b6ddbe"
      },
      "source": [
        "#Predicting the value:\n",
        "predictions = model.predict(X_test)\n",
        "\n",
        "#Checking precision:\n",
        "print(classification_report(y_test, predictions))"
      ],
      "execution_count": null,
      "outputs": [
        {
          "output_type": "stream",
          "name": "stdout",
          "text": [
            "              precision    recall  f1-score   support\n",
            "\n",
            "           0       1.00      1.00      1.00      1023\n",
            "           1       1.00      1.00      1.00      1248\n",
            "           2       1.00      1.00      1.00      2217\n",
            "\n",
            "    accuracy                           1.00      4488\n",
            "   macro avg       1.00      1.00      1.00      4488\n",
            "weighted avg       1.00      1.00      1.00      4488\n",
            "\n"
          ]
        }
      ]
    },
    {
      "cell_type": "code",
      "metadata": {
        "colab": {
          "base_uri": "https://localhost:8080/"
        },
        "id": "6caUZxoNsH6W",
        "outputId": "46b1f4d4-9aa6-4da7-9503-c552eac547de"
      },
      "source": [
        "#Using Confusion Matrix:\n",
        "confusion_matrix(y_test, predictions)"
      ],
      "execution_count": null,
      "outputs": [
        {
          "output_type": "execute_result",
          "data": {
            "text/plain": [
              "array([[1023,    0,    0],\n",
              "       [   0, 1248,    0],\n",
              "       [   0,    0, 2217]])"
            ]
          },
          "metadata": {},
          "execution_count": 231
        }
      ]
    },
    {
      "cell_type": "markdown",
      "metadata": {
        "id": "6wA_Q0Dx8s8E"
      },
      "source": [
        "From the 3 metrics used for evaluation, the model accurately predicted all the observations on the testing dataset"
      ]
    },
    {
      "cell_type": "markdown",
      "metadata": {
        "id": "jLFPNqziGYPq"
      },
      "source": [
        "**Hyperparameter Tuning**"
      ]
    },
    {
      "cell_type": "markdown",
      "metadata": {
        "id": "HWO8iyuPGi3m"
      },
      "source": [
        "Performing the same process by choosing a set of optimal hyperparameters:"
      ]
    },
    {
      "cell_type": "code",
      "metadata": {
        "id": "pkpxdqf6-vGI"
      },
      "source": [
        "#Choosing an optimal parameter by using a model argument whose value is set before the training process begins:\n",
        "clf = LogisticRegression()\n",
        "param_grid = [{'penalty': ['l1', 'l2'], \n",
        "               'C': np.logspace(0, 4, 5),\n",
        "               'solver' : ['lbfgs', 'newton-cg', 'liblinear','saga'],\n",
        "               'max_iter' : [5, 10]\n",
        "               }\n",
        "              ]\n",
        "\n",
        "#Creating grid search using 5-fold cross validation:\n",
        "clf = GridSearchCV(model, param_grid = param_grid, cv=5, verbose=0, scoring = 'accuracy')\n",
        "\n",
        "# Fitting grid search\n",
        "best_clf = clf.fit(X_train, y_train)\n",
        "\n",
        "#Predicting values based on the new parameters:\n",
        "y_pred = best_clf.predict(X_test)\n"
      ],
      "execution_count": null,
      "outputs": []
    },
    {
      "cell_type": "code",
      "metadata": {
        "colab": {
          "base_uri": "https://localhost:8080/"
        },
        "id": "zbphz7CTBFee",
        "outputId": "9ef7c92d-ed3d-4c16-dc83-715224f3d727"
      },
      "source": [
        "#Checking the accuracy and the best hyperparameter:\n",
        "print('Best Penalty:', best_clf.best_estimator_.get_params()['penalty'])\n",
        "print('Best C:', best_clf.best_estimator_.get_params()['C'])\n",
        "print('Best Solver:', best_clf.best_estimator_.get_params()['solver'])\n",
        "print('Best max_iter:', best_clf.best_estimator_.get_params()['max_iter'])"
      ],
      "execution_count": null,
      "outputs": [
        {
          "output_type": "stream",
          "name": "stdout",
          "text": [
            "Best Penalty: l1\n",
            "Best C: 1.0\n",
            "Best Solver: saga\n",
            "Best max_iter: 5\n"
          ]
        }
      ]
    },
    {
      "cell_type": "code",
      "metadata": {
        "colab": {
          "base_uri": "https://localhost:8080/"
        },
        "id": "z6h7Yg9XKhui",
        "outputId": "5d168c57-8477-4f50-ffb0-a8f17becabaa"
      },
      "source": [
        "#Model Selection using the Above parameters:\n",
        "model = LogisticRegression(penalty='l1', C=1, max_iter=5, solver='saga')\n",
        "\n",
        "#Fitting the model:\n",
        "model.fit(X_train,y_train )"
      ],
      "execution_count": null,
      "outputs": [
        {
          "output_type": "execute_result",
          "data": {
            "text/plain": [
              "LogisticRegression(C=1, max_iter=5, penalty='l1', solver='saga')"
            ]
          },
          "metadata": {},
          "execution_count": 31
        }
      ]
    },
    {
      "cell_type": "code",
      "metadata": {
        "colab": {
          "base_uri": "https://localhost:8080/"
        },
        "id": "rb5zpJnXKkzv",
        "outputId": "0ebf74bb-b253-42af-f1aa-19eda10dc8d6"
      },
      "source": [
        "#Checking the accuracy of the model:\n",
        "#predictions = model.predict(X_test)\n",
        "print(\"Accuracy:\",model.score(X_test, y_test )* 100)"
      ],
      "execution_count": null,
      "outputs": [
        {
          "output_type": "stream",
          "name": "stdout",
          "text": [
            "Accuracy: 100.0\n"
          ]
        }
      ]
    },
    {
      "cell_type": "markdown",
      "metadata": {
        "id": "k86Z26dPHoN2"
      },
      "source": [
        "The process of hyperparameter tuning eliminates chances of overfitting and underfitting since the optimal point is being sort in the model.\n",
        "  The accuracy score of 100% depicts the model as being a good predictor"
      ]
    },
    {
      "cell_type": "markdown",
      "metadata": {
        "id": "TshHD5NKIA59"
      },
      "source": [
        "**Conclusion**"
      ]
    },
    {
      "cell_type": "markdown",
      "metadata": {
        "id": "jwiHuvgjIE9I"
      },
      "source": [
        "From the 2 Approaches, Logistic Regression Model is the best in predicting the results of a game.\n",
        "\n",
        "The features provided were sufficient enough to provide the needed output.\n"
      ]
    }
  ]
}